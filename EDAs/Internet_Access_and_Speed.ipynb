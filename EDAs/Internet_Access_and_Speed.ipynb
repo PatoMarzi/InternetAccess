{
 "cells": [
  {
   "cell_type": "markdown",
   "metadata": {},
   "source": [
    "### In this EDA we'll have a look at the type of connection and how popular they are, as well as the download speed these different services offer throughout the years and across the country focusing mainly on wireless connection an its speed"
   ]
  },
  {
   "cell_type": "code",
   "execution_count": 2,
   "metadata": {},
   "outputs": [],
   "source": [
    "import pandas as pd\n",
    "import matplotlib.pyplot as plt\n",
    "import seaborn as sns"
   ]
  },
  {
   "cell_type": "markdown",
   "metadata": {},
   "source": [
    "We import a DataSet that shows Internet access by tech and by province"
   ]
  },
  {
   "cell_type": "code",
   "execution_count": 3,
   "metadata": {},
   "outputs": [],
   "source": [
    "df = pd.read_csv('../DataSets/Internet_Accesos-por-tecnologia_y_pcia.csv', sep = ',')"
   ]
  },
  {
   "cell_type": "markdown",
   "metadata": {},
   "source": [
    "Inspect the DataSet"
   ]
  },
  {
   "cell_type": "code",
   "execution_count": 4,
   "metadata": {},
   "outputs": [
    {
     "data": {
      "text/html": [
       "<div>\n",
       "<style scoped>\n",
       "    .dataframe tbody tr th:only-of-type {\n",
       "        vertical-align: middle;\n",
       "    }\n",
       "\n",
       "    .dataframe tbody tr th {\n",
       "        vertical-align: top;\n",
       "    }\n",
       "\n",
       "    .dataframe thead th {\n",
       "        text-align: right;\n",
       "    }\n",
       "</style>\n",
       "<table border=\"1\" class=\"dataframe\">\n",
       "  <thead>\n",
       "    <tr style=\"text-align: right;\">\n",
       "      <th></th>\n",
       "      <th>Unnamed: 0</th>\n",
       "      <th>Year</th>\n",
       "      <th>Quarter</th>\n",
       "      <th>Province</th>\n",
       "      <th>ADSL</th>\n",
       "      <th>Cable modem</th>\n",
       "      <th>Optic Fiber</th>\n",
       "      <th>Wireless</th>\n",
       "      <th>Others</th>\n",
       "      <th>Total</th>\n",
       "    </tr>\n",
       "  </thead>\n",
       "  <tbody>\n",
       "    <tr>\n",
       "      <th>0</th>\n",
       "      <td>0</td>\n",
       "      <td>2022</td>\n",
       "      <td>4</td>\n",
       "      <td>Buenos Aires</td>\n",
       "      <td>326.0</td>\n",
       "      <td>3.0</td>\n",
       "      <td>1.0</td>\n",
       "      <td>130.0</td>\n",
       "      <td>72.0</td>\n",
       "      <td>5.0</td>\n",
       "    </tr>\n",
       "    <tr>\n",
       "      <th>1</th>\n",
       "      <td>1</td>\n",
       "      <td>2022</td>\n",
       "      <td>4</td>\n",
       "      <td>Capital Federal</td>\n",
       "      <td>139.0</td>\n",
       "      <td>1.0</td>\n",
       "      <td>139.0</td>\n",
       "      <td>5.0</td>\n",
       "      <td>32.0</td>\n",
       "      <td>2.0</td>\n",
       "    </tr>\n",
       "    <tr>\n",
       "      <th>2</th>\n",
       "      <td>2</td>\n",
       "      <td>2022</td>\n",
       "      <td>4</td>\n",
       "      <td>Catamarca</td>\n",
       "      <td>9.0</td>\n",
       "      <td>11.0</td>\n",
       "      <td>47.0</td>\n",
       "      <td>1.0</td>\n",
       "      <td>2.0</td>\n",
       "      <td>71.0</td>\n",
       "    </tr>\n",
       "    <tr>\n",
       "      <th>3</th>\n",
       "      <td>3</td>\n",
       "      <td>2022</td>\n",
       "      <td>4</td>\n",
       "      <td>Chaco</td>\n",
       "      <td>25.0</td>\n",
       "      <td>61.0</td>\n",
       "      <td>47.0</td>\n",
       "      <td>8.0</td>\n",
       "      <td>3.0</td>\n",
       "      <td>144.0</td>\n",
       "    </tr>\n",
       "    <tr>\n",
       "      <th>4</th>\n",
       "      <td>4</td>\n",
       "      <td>2022</td>\n",
       "      <td>4</td>\n",
       "      <td>Chubut</td>\n",
       "      <td>45.0</td>\n",
       "      <td>74.0</td>\n",
       "      <td>10.0</td>\n",
       "      <td>31.0</td>\n",
       "      <td>9.0</td>\n",
       "      <td>169.0</td>\n",
       "    </tr>\n",
       "  </tbody>\n",
       "</table>\n",
       "</div>"
      ],
      "text/plain": [
       "   Unnamed: 0  Year  Quarter         Province   ADSL  Cable modem  \\\n",
       "0           0  2022        4     Buenos Aires  326.0          3.0   \n",
       "1           1  2022        4  Capital Federal  139.0          1.0   \n",
       "2           2  2022        4        Catamarca    9.0         11.0   \n",
       "3           3  2022        4            Chaco   25.0         61.0   \n",
       "4           4  2022        4           Chubut   45.0         74.0   \n",
       "\n",
       "   Optic Fiber  Wireless  Others  Total  \n",
       "0          1.0     130.0    72.0    5.0  \n",
       "1        139.0       5.0    32.0    2.0  \n",
       "2         47.0       1.0     2.0   71.0  \n",
       "3         47.0       8.0     3.0  144.0  \n",
       "4         10.0      31.0     9.0  169.0  "
      ]
     },
     "execution_count": 4,
     "metadata": {},
     "output_type": "execute_result"
    }
   ],
   "source": [
    "df.head()"
   ]
  },
  {
   "cell_type": "markdown",
   "metadata": {},
   "source": [
    "Get an insight of it"
   ]
  },
  {
   "cell_type": "code",
   "execution_count": 5,
   "metadata": {},
   "outputs": [
    {
     "data": {
      "text/html": [
       "<div>\n",
       "<style scoped>\n",
       "    .dataframe tbody tr th:only-of-type {\n",
       "        vertical-align: middle;\n",
       "    }\n",
       "\n",
       "    .dataframe tbody tr th {\n",
       "        vertical-align: top;\n",
       "    }\n",
       "\n",
       "    .dataframe thead th {\n",
       "        text-align: right;\n",
       "    }\n",
       "</style>\n",
       "<table border=\"1\" class=\"dataframe\">\n",
       "  <thead>\n",
       "    <tr style=\"text-align: right;\">\n",
       "      <th></th>\n",
       "      <th>Unnamed: 0</th>\n",
       "      <th>Year</th>\n",
       "      <th>Quarter</th>\n",
       "      <th>ADSL</th>\n",
       "      <th>Cable modem</th>\n",
       "      <th>Optic Fiber</th>\n",
       "      <th>Wireless</th>\n",
       "      <th>Others</th>\n",
       "      <th>Total</th>\n",
       "    </tr>\n",
       "  </thead>\n",
       "  <tbody>\n",
       "    <tr>\n",
       "      <th>count</th>\n",
       "      <td>864.000000</td>\n",
       "      <td>864.000000</td>\n",
       "      <td>864.000000</td>\n",
       "      <td>864.000000</td>\n",
       "      <td>864.000000</td>\n",
       "      <td>864.000000</td>\n",
       "      <td>864.000000</td>\n",
       "      <td>864.000000</td>\n",
       "      <td>864.000000</td>\n",
       "    </tr>\n",
       "    <tr>\n",
       "      <th>mean</th>\n",
       "      <td>431.500000</td>\n",
       "      <td>2018.000000</td>\n",
       "      <td>2.500000</td>\n",
       "      <td>86.363426</td>\n",
       "      <td>103.291667</td>\n",
       "      <td>165.432870</td>\n",
       "      <td>57.777778</td>\n",
       "      <td>102.712963</td>\n",
       "      <td>137.636574</td>\n",
       "    </tr>\n",
       "    <tr>\n",
       "      <th>std</th>\n",
       "      <td>249.559612</td>\n",
       "      <td>2.583484</td>\n",
       "      <td>1.118682</td>\n",
       "      <td>116.431490</td>\n",
       "      <td>188.849172</td>\n",
       "      <td>266.807807</td>\n",
       "      <td>156.015038</td>\n",
       "      <td>207.418981</td>\n",
       "      <td>180.798813</td>\n",
       "    </tr>\n",
       "    <tr>\n",
       "      <th>min</th>\n",
       "      <td>0.000000</td>\n",
       "      <td>2014.000000</td>\n",
       "      <td>1.000000</td>\n",
       "      <td>1.000000</td>\n",
       "      <td>0.000000</td>\n",
       "      <td>0.000000</td>\n",
       "      <td>0.000000</td>\n",
       "      <td>1.000000</td>\n",
       "      <td>1.000000</td>\n",
       "    </tr>\n",
       "    <tr>\n",
       "      <th>25%</th>\n",
       "      <td>215.750000</td>\n",
       "      <td>2016.000000</td>\n",
       "      <td>1.750000</td>\n",
       "      <td>21.000000</td>\n",
       "      <td>9.000000</td>\n",
       "      <td>9.000000</td>\n",
       "      <td>4.000000</td>\n",
       "      <td>3.000000</td>\n",
       "      <td>39.750000</td>\n",
       "    </tr>\n",
       "    <tr>\n",
       "      <th>50%</th>\n",
       "      <td>431.500000</td>\n",
       "      <td>2018.000000</td>\n",
       "      <td>2.500000</td>\n",
       "      <td>46.000000</td>\n",
       "      <td>35.500000</td>\n",
       "      <td>25.000000</td>\n",
       "      <td>10.000000</td>\n",
       "      <td>15.000000</td>\n",
       "      <td>91.000000</td>\n",
       "    </tr>\n",
       "    <tr>\n",
       "      <th>75%</th>\n",
       "      <td>647.250000</td>\n",
       "      <td>2020.000000</td>\n",
       "      <td>3.250000</td>\n",
       "      <td>81.000000</td>\n",
       "      <td>72.250000</td>\n",
       "      <td>170.750000</td>\n",
       "      <td>26.000000</td>\n",
       "      <td>47.000000</td>\n",
       "      <td>143.250000</td>\n",
       "    </tr>\n",
       "    <tr>\n",
       "      <th>max</th>\n",
       "      <td>863.000000</td>\n",
       "      <td>2022.000000</td>\n",
       "      <td>4.000000</td>\n",
       "      <td>720.000000</td>\n",
       "      <td>999.000000</td>\n",
       "      <td>998.000000</td>\n",
       "      <td>952.000000</td>\n",
       "      <td>987.000000</td>\n",
       "      <td>987.000000</td>\n",
       "    </tr>\n",
       "  </tbody>\n",
       "</table>\n",
       "</div>"
      ],
      "text/plain": [
       "       Unnamed: 0         Year     Quarter        ADSL  Cable modem  \\\n",
       "count  864.000000   864.000000  864.000000  864.000000   864.000000   \n",
       "mean   431.500000  2018.000000    2.500000   86.363426   103.291667   \n",
       "std    249.559612     2.583484    1.118682  116.431490   188.849172   \n",
       "min      0.000000  2014.000000    1.000000    1.000000     0.000000   \n",
       "25%    215.750000  2016.000000    1.750000   21.000000     9.000000   \n",
       "50%    431.500000  2018.000000    2.500000   46.000000    35.500000   \n",
       "75%    647.250000  2020.000000    3.250000   81.000000    72.250000   \n",
       "max    863.000000  2022.000000    4.000000  720.000000   999.000000   \n",
       "\n",
       "       Optic Fiber    Wireless      Others       Total  \n",
       "count   864.000000  864.000000  864.000000  864.000000  \n",
       "mean    165.432870   57.777778  102.712963  137.636574  \n",
       "std     266.807807  156.015038  207.418981  180.798813  \n",
       "min       0.000000    0.000000    1.000000    1.000000  \n",
       "25%       9.000000    4.000000    3.000000   39.750000  \n",
       "50%      25.000000   10.000000   15.000000   91.000000  \n",
       "75%     170.750000   26.000000   47.000000  143.250000  \n",
       "max     998.000000  952.000000  987.000000  987.000000  "
      ]
     },
     "execution_count": 5,
     "metadata": {},
     "output_type": "execute_result"
    }
   ],
   "source": [
    "df.describe()"
   ]
  },
  {
   "cell_type": "code",
   "execution_count": 6,
   "metadata": {},
   "outputs": [
    {
     "name": "stdout",
     "output_type": "stream",
     "text": [
      "<class 'pandas.core.frame.DataFrame'>\n",
      "RangeIndex: 864 entries, 0 to 863\n",
      "Data columns (total 10 columns):\n",
      " #   Column       Non-Null Count  Dtype  \n",
      "---  ------       --------------  -----  \n",
      " 0   Unnamed: 0   864 non-null    int64  \n",
      " 1   Year         864 non-null    int64  \n",
      " 2   Quarter      864 non-null    int64  \n",
      " 3   Province     864 non-null    object \n",
      " 4   ADSL         864 non-null    float64\n",
      " 5   Cable modem  864 non-null    float64\n",
      " 6   Optic Fiber  864 non-null    float64\n",
      " 7   Wireless     864 non-null    float64\n",
      " 8   Others       864 non-null    float64\n",
      " 9   Total        864 non-null    float64\n",
      "dtypes: float64(6), int64(3), object(1)\n",
      "memory usage: 67.6+ KB\n"
     ]
    }
   ],
   "source": [
    "df.info()"
   ]
  },
  {
   "cell_type": "markdown",
   "metadata": {},
   "source": [
    "See how many null values there are in our DataFrame and delete them"
   ]
  },
  {
   "cell_type": "code",
   "execution_count": 7,
   "metadata": {},
   "outputs": [
    {
     "data": {
      "text/plain": [
       "Unnamed: 0     0\n",
       "Year           0\n",
       "Quarter        0\n",
       "Province       0\n",
       "ADSL           0\n",
       "Cable modem    0\n",
       "Optic Fiber    0\n",
       "Wireless       0\n",
       "Others         0\n",
       "Total          0\n",
       "dtype: int64"
      ]
     },
     "execution_count": 7,
     "metadata": {},
     "output_type": "execute_result"
    }
   ],
   "source": [
    "df.isna().sum()"
   ]
  },
  {
   "cell_type": "code",
   "execution_count": 8,
   "metadata": {},
   "outputs": [],
   "source": [
    "df.dropna(inplace = True)"
   ]
  },
  {
   "cell_type": "code",
   "execution_count": 9,
   "metadata": {},
   "outputs": [
    {
     "data": {
      "text/plain": [
       "Unnamed: 0     0\n",
       "Year           0\n",
       "Quarter        0\n",
       "Province       0\n",
       "ADSL           0\n",
       "Cable modem    0\n",
       "Optic Fiber    0\n",
       "Wireless       0\n",
       "Others         0\n",
       "Total          0\n",
       "dtype: int64"
      ]
     },
     "execution_count": 9,
     "metadata": {},
     "output_type": "execute_result"
    }
   ],
   "source": [
    "df.isnull().sum()"
   ]
  },
  {
   "cell_type": "markdown",
   "metadata": {},
   "source": [
    "Now check for any duplicate value"
   ]
  },
  {
   "cell_type": "code",
   "execution_count": 10,
   "metadata": {},
   "outputs": [
    {
     "data": {
      "text/plain": [
       "0"
      ]
     },
     "execution_count": 10,
     "metadata": {},
     "output_type": "execute_result"
    }
   ],
   "source": [
    "df.duplicated().sum()"
   ]
  },
  {
   "cell_type": "markdown",
   "metadata": {},
   "source": [
    "Rename the columns for an easier read"
   ]
  },
  {
   "cell_type": "code",
   "execution_count": 11,
   "metadata": {},
   "outputs": [],
   "source": [
    "dfColumns = {'Año': 'Year', 'Provincia': 'Province', 'Fibra óptica': 'Optic Fiber', 'Trimestre': 'Quarter', 'Otros': 'Others', 'Cablemodem': 'Cable modem'}"
   ]
  },
  {
   "cell_type": "code",
   "execution_count": 12,
   "metadata": {},
   "outputs": [],
   "source": [
    "df.rename(columns = dfColumns, inplace = True)"
   ]
  },
  {
   "cell_type": "code",
   "execution_count": 13,
   "metadata": {},
   "outputs": [
    {
     "data": {
      "text/html": [
       "<div>\n",
       "<style scoped>\n",
       "    .dataframe tbody tr th:only-of-type {\n",
       "        vertical-align: middle;\n",
       "    }\n",
       "\n",
       "    .dataframe tbody tr th {\n",
       "        vertical-align: top;\n",
       "    }\n",
       "\n",
       "    .dataframe thead th {\n",
       "        text-align: right;\n",
       "    }\n",
       "</style>\n",
       "<table border=\"1\" class=\"dataframe\">\n",
       "  <thead>\n",
       "    <tr style=\"text-align: right;\">\n",
       "      <th></th>\n",
       "      <th>Unnamed: 0</th>\n",
       "      <th>Year</th>\n",
       "      <th>Quarter</th>\n",
       "      <th>Province</th>\n",
       "      <th>ADSL</th>\n",
       "      <th>Cable modem</th>\n",
       "      <th>Optic Fiber</th>\n",
       "      <th>Wireless</th>\n",
       "      <th>Others</th>\n",
       "      <th>Total</th>\n",
       "    </tr>\n",
       "  </thead>\n",
       "  <tbody>\n",
       "    <tr>\n",
       "      <th>0</th>\n",
       "      <td>0</td>\n",
       "      <td>2022</td>\n",
       "      <td>4</td>\n",
       "      <td>Buenos Aires</td>\n",
       "      <td>326.0</td>\n",
       "      <td>3.0</td>\n",
       "      <td>1.0</td>\n",
       "      <td>130.0</td>\n",
       "      <td>72.0</td>\n",
       "      <td>5.0</td>\n",
       "    </tr>\n",
       "    <tr>\n",
       "      <th>1</th>\n",
       "      <td>1</td>\n",
       "      <td>2022</td>\n",
       "      <td>4</td>\n",
       "      <td>Capital Federal</td>\n",
       "      <td>139.0</td>\n",
       "      <td>1.0</td>\n",
       "      <td>139.0</td>\n",
       "      <td>5.0</td>\n",
       "      <td>32.0</td>\n",
       "      <td>2.0</td>\n",
       "    </tr>\n",
       "    <tr>\n",
       "      <th>2</th>\n",
       "      <td>2</td>\n",
       "      <td>2022</td>\n",
       "      <td>4</td>\n",
       "      <td>Catamarca</td>\n",
       "      <td>9.0</td>\n",
       "      <td>11.0</td>\n",
       "      <td>47.0</td>\n",
       "      <td>1.0</td>\n",
       "      <td>2.0</td>\n",
       "      <td>71.0</td>\n",
       "    </tr>\n",
       "    <tr>\n",
       "      <th>3</th>\n",
       "      <td>3</td>\n",
       "      <td>2022</td>\n",
       "      <td>4</td>\n",
       "      <td>Chaco</td>\n",
       "      <td>25.0</td>\n",
       "      <td>61.0</td>\n",
       "      <td>47.0</td>\n",
       "      <td>8.0</td>\n",
       "      <td>3.0</td>\n",
       "      <td>144.0</td>\n",
       "    </tr>\n",
       "    <tr>\n",
       "      <th>4</th>\n",
       "      <td>4</td>\n",
       "      <td>2022</td>\n",
       "      <td>4</td>\n",
       "      <td>Chubut</td>\n",
       "      <td>45.0</td>\n",
       "      <td>74.0</td>\n",
       "      <td>10.0</td>\n",
       "      <td>31.0</td>\n",
       "      <td>9.0</td>\n",
       "      <td>169.0</td>\n",
       "    </tr>\n",
       "  </tbody>\n",
       "</table>\n",
       "</div>"
      ],
      "text/plain": [
       "   Unnamed: 0  Year  Quarter         Province   ADSL  Cable modem  \\\n",
       "0           0  2022        4     Buenos Aires  326.0          3.0   \n",
       "1           1  2022        4  Capital Federal  139.0          1.0   \n",
       "2           2  2022        4        Catamarca    9.0         11.0   \n",
       "3           3  2022        4            Chaco   25.0         61.0   \n",
       "4           4  2022        4           Chubut   45.0         74.0   \n",
       "\n",
       "   Optic Fiber  Wireless  Others  Total  \n",
       "0          1.0     130.0    72.0    5.0  \n",
       "1        139.0       5.0    32.0    2.0  \n",
       "2         47.0       1.0     2.0   71.0  \n",
       "3         47.0       8.0     3.0  144.0  \n",
       "4         10.0      31.0     9.0  169.0  "
      ]
     },
     "execution_count": 13,
     "metadata": {},
     "output_type": "execute_result"
    }
   ],
   "source": [
    "df.head()"
   ]
  },
  {
   "cell_type": "markdown",
   "metadata": {},
   "source": [
    "Explore the `Year` & `Quarter` column to see its unique values"
   ]
  },
  {
   "cell_type": "code",
   "execution_count": 14,
   "metadata": {},
   "outputs": [
    {
     "data": {
      "text/plain": [
       "array([4, 3, 2, 1], dtype=int64)"
      ]
     },
     "execution_count": 14,
     "metadata": {},
     "output_type": "execute_result"
    }
   ],
   "source": [
    "df['Quarter'].unique()"
   ]
  },
  {
   "cell_type": "code",
   "execution_count": 15,
   "metadata": {},
   "outputs": [
    {
     "data": {
      "text/plain": [
       "array([2022, 2021, 2020, 2019, 2018, 2017, 2016, 2015, 2014], dtype=int64)"
      ]
     },
     "execution_count": 15,
     "metadata": {},
     "output_type": "execute_result"
    }
   ],
   "source": [
    "df['Year'].unique()"
   ]
  },
  {
   "cell_type": "markdown",
   "metadata": {},
   "source": [
    "We see that there are some values with an '*`*`*', which we do not quite know its meaning."
   ]
  },
  {
   "cell_type": "markdown",
   "metadata": {},
   "source": [
    "We create a temporary DataFrame with only asterisk (`*`) values to better understand the data when deciding whether to discard them or not"
   ]
  },
  {
   "cell_type": "code",
   "execution_count": 16,
   "metadata": {},
   "outputs": [],
   "source": [
    "asterisk = df[df['Quarter'].isin(['3 *', '2 *', '1 *'])]"
   ]
  },
  {
   "cell_type": "code",
   "execution_count": 17,
   "metadata": {},
   "outputs": [
    {
     "data": {
      "text/html": [
       "<div>\n",
       "<style scoped>\n",
       "    .dataframe tbody tr th:only-of-type {\n",
       "        vertical-align: middle;\n",
       "    }\n",
       "\n",
       "    .dataframe tbody tr th {\n",
       "        vertical-align: top;\n",
       "    }\n",
       "\n",
       "    .dataframe thead th {\n",
       "        text-align: right;\n",
       "    }\n",
       "</style>\n",
       "<table border=\"1\" class=\"dataframe\">\n",
       "  <thead>\n",
       "    <tr style=\"text-align: right;\">\n",
       "      <th></th>\n",
       "      <th>Unnamed: 0</th>\n",
       "      <th>Year</th>\n",
       "      <th>Quarter</th>\n",
       "      <th>Province</th>\n",
       "      <th>ADSL</th>\n",
       "      <th>Cable modem</th>\n",
       "      <th>Optic Fiber</th>\n",
       "      <th>Wireless</th>\n",
       "      <th>Others</th>\n",
       "      <th>Total</th>\n",
       "    </tr>\n",
       "  </thead>\n",
       "  <tbody>\n",
       "  </tbody>\n",
       "</table>\n",
       "</div>"
      ],
      "text/plain": [
       "Empty DataFrame\n",
       "Columns: [Unnamed: 0, Year, Quarter, Province, ADSL, Cable modem, Optic Fiber, Wireless, Others, Total]\n",
       "Index: []"
      ]
     },
     "execution_count": 17,
     "metadata": {},
     "output_type": "execute_result"
    }
   ],
   "source": [
    "asterisk.head(50)"
   ]
  },
  {
   "cell_type": "markdown",
   "metadata": {},
   "source": [
    "At first glance, these values seem to be just fine. We are going to keep them but first we'll do some data cleaning"
   ]
  },
  {
   "cell_type": "markdown",
   "metadata": {},
   "source": [
    "### We drop the * from the Year and Quarter columns"
   ]
  },
  {
   "cell_type": "code",
   "execution_count": 18,
   "metadata": {},
   "outputs": [],
   "source": [
    "# We define a replace map\n",
    "replace_mapping = {'3 *': '3', '2 *': '2', '1 *': '1'}\n",
    "\n",
    "df['Quarter'] = df['Quarter'].replace(replace_mapping)"
   ]
  },
  {
   "cell_type": "code",
   "execution_count": 19,
   "metadata": {},
   "outputs": [
    {
     "data": {
      "text/plain": [
       "array([4, 3, 2, 1], dtype=int64)"
      ]
     },
     "execution_count": 19,
     "metadata": {},
     "output_type": "execute_result"
    }
   ],
   "source": [
    "df['Quarter'].unique()"
   ]
  },
  {
   "cell_type": "markdown",
   "metadata": {},
   "source": [
    "We do the same thing for the `Year` column, but just for the value _2019_"
   ]
  },
  {
   "cell_type": "code",
   "execution_count": 20,
   "metadata": {},
   "outputs": [],
   "source": [
    "df['Year'] = df['Year'].replace('2019 *', '2019')"
   ]
  },
  {
   "cell_type": "code",
   "execution_count": 21,
   "metadata": {},
   "outputs": [
    {
     "data": {
      "text/plain": [
       "array([2022, 2021, 2020, 2019, 2018, 2017, 2016, 2015, 2014], dtype=int64)"
      ]
     },
     "execution_count": 21,
     "metadata": {},
     "output_type": "execute_result"
    }
   ],
   "source": [
    "df['Year'].unique()"
   ]
  },
  {
   "cell_type": "code",
   "execution_count": 22,
   "metadata": {},
   "outputs": [],
   "source": [
    "df.to_csv('../DataSets/Internet_Accesos-por-tecnologia_y_pcia.csv', sep = ',')"
   ]
  },
  {
   "cell_type": "code",
   "execution_count": 29,
   "metadata": {},
   "outputs": [],
   "source": [
    "df.drop(columns='Unnamed: 0', inplace= True)\n",
    "df.to_csv('../Wireless.csv', index = False, sep = ',')"
   ]
  },
  {
   "cell_type": "code",
   "execution_count": 27,
   "metadata": {},
   "outputs": [
    {
     "data": {
      "text/html": [
       "<div>\n",
       "<style scoped>\n",
       "    .dataframe tbody tr th:only-of-type {\n",
       "        vertical-align: middle;\n",
       "    }\n",
       "\n",
       "    .dataframe tbody tr th {\n",
       "        vertical-align: top;\n",
       "    }\n",
       "\n",
       "    .dataframe thead th {\n",
       "        text-align: right;\n",
       "    }\n",
       "</style>\n",
       "<table border=\"1\" class=\"dataframe\">\n",
       "  <thead>\n",
       "    <tr style=\"text-align: right;\">\n",
       "      <th></th>\n",
       "      <th>Unnamed: 0</th>\n",
       "      <th>Year</th>\n",
       "      <th>Quarter</th>\n",
       "      <th>Province</th>\n",
       "      <th>ADSL</th>\n",
       "      <th>Cable modem</th>\n",
       "      <th>Optic Fiber</th>\n",
       "      <th>Wireless</th>\n",
       "      <th>Others</th>\n",
       "      <th>Total</th>\n",
       "    </tr>\n",
       "  </thead>\n",
       "  <tbody>\n",
       "    <tr>\n",
       "      <th>0</th>\n",
       "      <td>0</td>\n",
       "      <td>2022</td>\n",
       "      <td>4</td>\n",
       "      <td>Buenos Aires</td>\n",
       "      <td>326.0</td>\n",
       "      <td>3.0</td>\n",
       "      <td>1.0</td>\n",
       "      <td>130.0</td>\n",
       "      <td>72.0</td>\n",
       "      <td>5.0</td>\n",
       "    </tr>\n",
       "    <tr>\n",
       "      <th>1</th>\n",
       "      <td>1</td>\n",
       "      <td>2022</td>\n",
       "      <td>4</td>\n",
       "      <td>Capital Federal</td>\n",
       "      <td>139.0</td>\n",
       "      <td>1.0</td>\n",
       "      <td>139.0</td>\n",
       "      <td>5.0</td>\n",
       "      <td>32.0</td>\n",
       "      <td>2.0</td>\n",
       "    </tr>\n",
       "    <tr>\n",
       "      <th>2</th>\n",
       "      <td>2</td>\n",
       "      <td>2022</td>\n",
       "      <td>4</td>\n",
       "      <td>Catamarca</td>\n",
       "      <td>9.0</td>\n",
       "      <td>11.0</td>\n",
       "      <td>47.0</td>\n",
       "      <td>1.0</td>\n",
       "      <td>2.0</td>\n",
       "      <td>71.0</td>\n",
       "    </tr>\n",
       "    <tr>\n",
       "      <th>3</th>\n",
       "      <td>3</td>\n",
       "      <td>2022</td>\n",
       "      <td>4</td>\n",
       "      <td>Chaco</td>\n",
       "      <td>25.0</td>\n",
       "      <td>61.0</td>\n",
       "      <td>47.0</td>\n",
       "      <td>8.0</td>\n",
       "      <td>3.0</td>\n",
       "      <td>144.0</td>\n",
       "    </tr>\n",
       "    <tr>\n",
       "      <th>4</th>\n",
       "      <td>4</td>\n",
       "      <td>2022</td>\n",
       "      <td>4</td>\n",
       "      <td>Chubut</td>\n",
       "      <td>45.0</td>\n",
       "      <td>74.0</td>\n",
       "      <td>10.0</td>\n",
       "      <td>31.0</td>\n",
       "      <td>9.0</td>\n",
       "      <td>169.0</td>\n",
       "    </tr>\n",
       "    <tr>\n",
       "      <th>...</th>\n",
       "      <td>...</td>\n",
       "      <td>...</td>\n",
       "      <td>...</td>\n",
       "      <td>...</td>\n",
       "      <td>...</td>\n",
       "      <td>...</td>\n",
       "      <td>...</td>\n",
       "      <td>...</td>\n",
       "      <td>...</td>\n",
       "      <td>...</td>\n",
       "    </tr>\n",
       "    <tr>\n",
       "      <th>859</th>\n",
       "      <td>859</td>\n",
       "      <td>2014</td>\n",
       "      <td>1</td>\n",
       "      <td>Santa Cruz</td>\n",
       "      <td>19.0</td>\n",
       "      <td>100.0</td>\n",
       "      <td>381.0</td>\n",
       "      <td>4.0</td>\n",
       "      <td>3.0</td>\n",
       "      <td>27.0</td>\n",
       "    </tr>\n",
       "    <tr>\n",
       "      <th>860</th>\n",
       "      <td>860</td>\n",
       "      <td>2014</td>\n",
       "      <td>1</td>\n",
       "      <td>Santa Fe</td>\n",
       "      <td>323.0</td>\n",
       "      <td>174.0</td>\n",
       "      <td>3.0</td>\n",
       "      <td>6.0</td>\n",
       "      <td>644.0</td>\n",
       "      <td>507.0</td>\n",
       "    </tr>\n",
       "    <tr>\n",
       "      <th>861</th>\n",
       "      <td>861</td>\n",
       "      <td>2014</td>\n",
       "      <td>1</td>\n",
       "      <td>Santiago Del Estero</td>\n",
       "      <td>33.0</td>\n",
       "      <td>4.0</td>\n",
       "      <td>19.0</td>\n",
       "      <td>915.0</td>\n",
       "      <td>34.0</td>\n",
       "      <td>37.0</td>\n",
       "    </tr>\n",
       "    <tr>\n",
       "      <th>862</th>\n",
       "      <td>862</td>\n",
       "      <td>2014</td>\n",
       "      <td>1</td>\n",
       "      <td>Tierra Del Fuego</td>\n",
       "      <td>22.0</td>\n",
       "      <td>3.0</td>\n",
       "      <td>648.0</td>\n",
       "      <td>1.0</td>\n",
       "      <td>3.0</td>\n",
       "      <td>28.0</td>\n",
       "    </tr>\n",
       "    <tr>\n",
       "      <th>863</th>\n",
       "      <td>863</td>\n",
       "      <td>2014</td>\n",
       "      <td>1</td>\n",
       "      <td>Tucumán</td>\n",
       "      <td>130.0</td>\n",
       "      <td>83.0</td>\n",
       "      <td>121.0</td>\n",
       "      <td>13.0</td>\n",
       "      <td>98.0</td>\n",
       "      <td>130.0</td>\n",
       "    </tr>\n",
       "  </tbody>\n",
       "</table>\n",
       "<p>864 rows × 10 columns</p>\n",
       "</div>"
      ],
      "text/plain": [
       "     Unnamed: 0  Year  Quarter             Province   ADSL  Cable modem  \\\n",
       "0             0  2022        4         Buenos Aires  326.0          3.0   \n",
       "1             1  2022        4      Capital Federal  139.0          1.0   \n",
       "2             2  2022        4            Catamarca    9.0         11.0   \n",
       "3             3  2022        4                Chaco   25.0         61.0   \n",
       "4             4  2022        4               Chubut   45.0         74.0   \n",
       "..          ...   ...      ...                  ...    ...          ...   \n",
       "859         859  2014        1           Santa Cruz   19.0        100.0   \n",
       "860         860  2014        1             Santa Fe  323.0        174.0   \n",
       "861         861  2014        1  Santiago Del Estero   33.0          4.0   \n",
       "862         862  2014        1     Tierra Del Fuego   22.0          3.0   \n",
       "863         863  2014        1              Tucumán  130.0         83.0   \n",
       "\n",
       "     Optic Fiber  Wireless  Others  Total  \n",
       "0            1.0     130.0    72.0    5.0  \n",
       "1          139.0       5.0    32.0    2.0  \n",
       "2           47.0       1.0     2.0   71.0  \n",
       "3           47.0       8.0     3.0  144.0  \n",
       "4           10.0      31.0     9.0  169.0  \n",
       "..           ...       ...     ...    ...  \n",
       "859        381.0       4.0     3.0   27.0  \n",
       "860          3.0       6.0   644.0  507.0  \n",
       "861         19.0     915.0    34.0   37.0  \n",
       "862        648.0       1.0     3.0   28.0  \n",
       "863        121.0      13.0    98.0  130.0  \n",
       "\n",
       "[864 rows x 10 columns]"
      ]
     },
     "execution_count": 27,
     "metadata": {},
     "output_type": "execute_result"
    }
   ],
   "source": [
    "df"
   ]
  },
  {
   "cell_type": "code",
   "execution_count": 23,
   "metadata": {},
   "outputs": [
    {
     "data": {
      "image/png": "[encoded data removed]",
      "text/plain": [
       "<Figure size 2000x1800 with 6 Axes>"
      ]
     },
     "metadata": {},
     "output_type": "display_data"
    }
   ],
   "source": [
    "plt.figure(figsize = (20, 18))\n",
    "plt.title('Type of Connection by Year and Quarter')\n",
    "sns.set_style('whitegrid')\n",
    "\n",
    "\n",
    "# ADSL barplot\n",
    "plt.subplot(1, 5, 1)\n",
    "sns.barplot(data = df, x = 'ADSL', y = 'Year', hue = 'Quarter', errorbar = None)\n",
    "plt.legend(title = 'Quarter', loc = 'best', shadow = True)\n",
    "\n",
    "\n",
    "# Cable modem barplot\n",
    "plt.subplot(1, 5, 2)\n",
    "sns.barplot(data = df, x = 'Cable modem', y = 'Year', hue = 'Quarter', errorbar = None)\n",
    "plt.legend(title = 'Quarter', loc = 'best', shadow = True)\n",
    "\n",
    "\n",
    "# Optic Fiber barplot\n",
    "plt.subplot(1, 5, 3)\n",
    "sns.barplot(data = df, x = 'Optic Fiber', y = 'Year', hue = 'Quarter', errorbar = None)\n",
    "plt.legend(title = 'Quarter', loc = 'best', shadow = True)\n",
    "\n",
    "\n",
    "# Wireless barplot\n",
    "plt.subplot(1, 5, 4)\n",
    "sns.barplot(data = df, x = 'Wireless', y = 'Year', hue = 'Quarter', errorbar = None)\n",
    "plt.legend(title = 'Quarter', loc = 'best', shadow = True)\n",
    "\n",
    "\n",
    "# Others barplot\n",
    "plt.subplot(1, 5, 5)\n",
    "sns.barplot(data = df, x = 'Others', y = 'Year', hue = 'Quarter', errorbar = None)\n",
    "plt.legend(title = 'Quarter', loc = 'best', shadow = True)\n",
    "\n",
    "\n",
    "plt.show()"
   ]
  },
  {
   "cell_type": "markdown",
   "metadata": {},
   "source": [
    "## Some takeaways\n",
    "\n",
    " - Although it saw a slight increase from 2018 to 2020, ``Wireless`` connection is the least popular throughout the years. <br>\n",
    " - In the last year, the ``ADSL`` connection was the most popular one. <br>\n",
    " - ``Optic fiber`` has dropped significantly in the last two years compared to the previous ones.<br>"
   ]
  },
  {
   "cell_type": "markdown",
   "metadata": {},
   "source": [
    "## See what percentage each connection technology represented in the last year"
   ]
  },
  {
   "cell_type": "code",
   "execution_count": 33,
   "metadata": {},
   "outputs": [],
   "source": [
    "connections = ['ADSL', 'Cable modem', 'Optic Fiber', 'Wireless']"
   ]
  },
  {
   "cell_type": "code",
   "execution_count": 34,
   "metadata": {},
   "outputs": [],
   "source": [
    "df['Year'] = df['Year'].astype('int16')"
   ]
  },
  {
   "cell_type": "code",
   "execution_count": 35,
   "metadata": {},
   "outputs": [],
   "source": [
    "df2021 = df[df['Year'] == 2021]"
   ]
  },
  {
   "cell_type": "code",
   "execution_count": 36,
   "metadata": {},
   "outputs": [],
   "source": [
    "df2022 = df[df['Year'] == 2022]"
   ]
  },
  {
   "cell_type": "code",
   "execution_count": 37,
   "metadata": {},
   "outputs": [
    {
     "data": {
      "text/plain": [
       "pandas.core.series.Series"
      ]
     },
     "execution_count": 37,
     "metadata": {},
     "output_type": "execute_result"
    }
   ],
   "source": [
    "totalConnections2021 = df2021[connections].sum()\n",
    "type(totalConnections2021)"
   ]
  },
  {
   "cell_type": "markdown",
   "metadata": {},
   "source": [
    "# We plot a pie chart since is much simpler to know the size of each category"
   ]
  },
  {
   "cell_type": "code",
   "execution_count": 29,
   "metadata": {},
   "outputs": [
    {
     "data": {
      "image/png": "[encoded data removed]",
      "text/plain": [
       "<Figure size 1400x600 with 1 Axes>"
      ]
     },
     "metadata": {},
     "output_type": "display_data"
    }
   ],
   "source": [
    "explode = (0, 0, 0, 0.2)\n",
    "\n",
    "fig, ax = plt.subplots(figsize = (14, 6))\n",
    "\n",
    "ax.pie(totalConnections2021, labels = totalConnections2021.index, autopct = '%1.2f%%', startangle = 30, explode = explode, shadow = True, textprops = {'fontsize': '16'}, radius = 1)\n",
    "\n",
    "plt.show()"
   ]
  },
  {
   "cell_type": "markdown",
   "metadata": {},
   "source": [
    "# Now we do the same, but for the year 2022"
   ]
  },
  {
   "cell_type": "code",
   "execution_count": 30,
   "metadata": {},
   "outputs": [
    {
     "data": {
      "text/plain": [
       "ADSL           5715.0\n",
       "Cable modem    8244.0\n",
       "Optic Fiber    7457.0\n",
       "Wireless       2765.0\n",
       "dtype: float64"
      ]
     },
     "execution_count": 30,
     "metadata": {},
     "output_type": "execute_result"
    }
   ],
   "source": [
    "totalConnections2022 = df2022[connections].sum()\n",
    "totalConnections2022"
   ]
  },
  {
   "cell_type": "code",
   "execution_count": 31,
   "metadata": {},
   "outputs": [
    {
     "data": {
      "image/png": "[encoded data removed]",
      "text/plain": [
       "<Figure size 1400x600 with 1 Axes>"
      ]
     },
     "metadata": {},
     "output_type": "display_data"
    }
   ],
   "source": [
    "explode = (0, 0, 0, 0.2)\n",
    "\n",
    "fig, ax = plt.subplots(figsize = (14, 6))\n",
    "\n",
    "ax.pie(totalConnections2022, labels = totalConnections2022.index, autopct = '%1.2f%%', startangle = 30, explode = explode, shadow = True, textprops = {'fontsize': '16'}, radius = 1)\n",
    "\n",
    "plt.show()"
   ]
  },
  {
   "cell_type": "markdown",
   "metadata": {},
   "source": [
    "## We see that wireless connection has increased slightly."
   ]
  },
  {
   "cell_type": "markdown",
   "metadata": {},
   "source": [
    "## See the number of connections for each province"
   ]
  },
  {
   "cell_type": "code",
   "execution_count": 32,
   "metadata": {},
   "outputs": [],
   "source": [
    "df['Total Connections'] = df['Wireless'] + df['Optic Fiber'] + df['ADSL'] + df['Cable modem']"
   ]
  },
  {
   "cell_type": "code",
   "execution_count": 33,
   "metadata": {},
   "outputs": [],
   "source": [
    "dfTotal = df.groupby('Province')['Total Connections'].sum()"
   ]
  },
  {
   "cell_type": "code",
   "execution_count": 34,
   "metadata": {},
   "outputs": [],
   "source": [
    "dfTotal = dfTotal.sort_values(ascending = False)"
   ]
  },
  {
   "cell_type": "code",
   "execution_count": 35,
   "metadata": {},
   "outputs": [
    {
     "data": {
      "image/png": "[encoded data removed]",
      "text/plain": [
       "<Figure size 2200x800 with 1 Axes>"
      ]
     },
     "metadata": {},
     "output_type": "display_data"
    }
   ],
   "source": [
    "plt.figure(figsize = (22, 8))\n",
    "dfTotal.plot(kind = 'bar')\n",
    "plt.xlabel('Province')\n",
    "plt.ylabel('Number of Connections')\n",
    "plt.xticks(rotation = 40)\n",
    "plt.show()"
   ]
  },
  {
   "cell_type": "markdown",
   "metadata": {},
   "source": [
    " - As we can see, the province with the most connections is ``Córdoba``, whereas the province with the least amount of connections is `La Pampa`\n",
    " - More than half the provinces have 10000 or more connections. We could aim to get the remaining 9 provinces to be up there.\n",
    " - The disparity shown above could be to the fact that the provinces on the left side of the graph are either more populated or have a better infraestructure than the ones with less Internet connections.\n",
    "___\n",
    "___"
   ]
  },
  {
   "cell_type": "markdown",
   "metadata": {},
   "source": [
    "# Load a second csv file, which shows the download speed by province"
   ]
  },
  {
   "cell_type": "code",
   "execution_count": 36,
   "metadata": {},
   "outputs": [],
   "source": [
    "df2 = pd.read_csv('../DataSets/Internet_Accesos-por-velocidad_por_pcia.csv', sep = ',')"
   ]
  },
  {
   "cell_type": "code",
   "execution_count": 37,
   "metadata": {},
   "outputs": [
    {
     "data": {
      "text/html": [
       "<div>\n",
       "<style scoped>\n",
       "    .dataframe tbody tr th:only-of-type {\n",
       "        vertical-align: middle;\n",
       "    }\n",
       "\n",
       "    .dataframe tbody tr th {\n",
       "        vertical-align: top;\n",
       "    }\n",
       "\n",
       "    .dataframe thead th {\n",
       "        text-align: right;\n",
       "    }\n",
       "</style>\n",
       "<table border=\"1\" class=\"dataframe\">\n",
       "  <thead>\n",
       "    <tr style=\"text-align: right;\">\n",
       "      <th></th>\n",
       "      <th>Año</th>\n",
       "      <th>Trimestre</th>\n",
       "      <th>Provincia</th>\n",
       "      <th>HASTA 512 kbps</th>\n",
       "      <th>+ 512 Kbps - 1 Mbps</th>\n",
       "      <th>+ 1 Mbps - 6 Mbps</th>\n",
       "      <th>+ 6 Mbps - 10 Mbps</th>\n",
       "      <th>+ 10 Mbps - 20 Mbps</th>\n",
       "      <th>+ 20 Mbps - 30 Mbps</th>\n",
       "      <th>+ 30 Mbps</th>\n",
       "      <th>OTROS</th>\n",
       "      <th>Total</th>\n",
       "    </tr>\n",
       "  </thead>\n",
       "  <tbody>\n",
       "    <tr>\n",
       "      <th>0</th>\n",
       "      <td>2022</td>\n",
       "      <td>4</td>\n",
       "      <td>Buenos Aires</td>\n",
       "      <td>28.934</td>\n",
       "      <td>23.347</td>\n",
       "      <td>259.866</td>\n",
       "      <td>281.550</td>\n",
       "      <td>244.555</td>\n",
       "      <td>98.670</td>\n",
       "      <td>3.760.109</td>\n",
       "      <td>97.634</td>\n",
       "      <td>4.794.665</td>\n",
       "    </tr>\n",
       "    <tr>\n",
       "      <th>1</th>\n",
       "      <td>2022</td>\n",
       "      <td>4</td>\n",
       "      <td>Capital Federal</td>\n",
       "      <td>516.000</td>\n",
       "      <td>5.096</td>\n",
       "      <td>31.320</td>\n",
       "      <td>64.653</td>\n",
       "      <td>36.336</td>\n",
       "      <td>8.116</td>\n",
       "      <td>1.299.117</td>\n",
       "      <td>106.772</td>\n",
       "      <td>1.551.926</td>\n",
       "    </tr>\n",
       "    <tr>\n",
       "      <th>2</th>\n",
       "      <td>2022</td>\n",
       "      <td>4</td>\n",
       "      <td>Catamarca</td>\n",
       "      <td>71.000</td>\n",
       "      <td>315.000</td>\n",
       "      <td>2.716</td>\n",
       "      <td>5.028</td>\n",
       "      <td>4.638</td>\n",
       "      <td>3.122</td>\n",
       "      <td>52.739</td>\n",
       "      <td>2.280</td>\n",
       "      <td>70.909</td>\n",
       "    </tr>\n",
       "    <tr>\n",
       "      <th>3</th>\n",
       "      <td>2022</td>\n",
       "      <td>4</td>\n",
       "      <td>Chaco</td>\n",
       "      <td>461.000</td>\n",
       "      <td>771.000</td>\n",
       "      <td>16.067</td>\n",
       "      <td>17.846</td>\n",
       "      <td>6.704</td>\n",
       "      <td>3.039</td>\n",
       "      <td>94.866</td>\n",
       "      <td>3.909</td>\n",
       "      <td>143.663</td>\n",
       "    </tr>\n",
       "    <tr>\n",
       "      <th>4</th>\n",
       "      <td>2022</td>\n",
       "      <td>4</td>\n",
       "      <td>Chubut</td>\n",
       "      <td>109.000</td>\n",
       "      <td>1.614</td>\n",
       "      <td>46.457</td>\n",
       "      <td>31.007</td>\n",
       "      <td>34.728</td>\n",
       "      <td>15.770</td>\n",
       "      <td>19.048</td>\n",
       "      <td>20.026</td>\n",
       "      <td>168.759</td>\n",
       "    </tr>\n",
       "  </tbody>\n",
       "</table>\n",
       "</div>"
      ],
      "text/plain": [
       "    Año  Trimestre        Provincia  HASTA 512 kbps  + 512 Kbps - 1 Mbps  \\\n",
       "0  2022          4     Buenos Aires          28.934               23.347   \n",
       "1  2022          4  Capital Federal         516.000                5.096   \n",
       "2  2022          4        Catamarca          71.000              315.000   \n",
       "3  2022          4            Chaco         461.000              771.000   \n",
       "4  2022          4           Chubut         109.000                1.614   \n",
       "\n",
       "  + 1 Mbps - 6 Mbps  + 6 Mbps - 10 Mbps  + 10 Mbps - 20 Mbps  \\\n",
       "0           259.866             281.550              244.555   \n",
       "1            31.320              64.653               36.336   \n",
       "2             2.716               5.028                4.638   \n",
       "3            16.067              17.846                6.704   \n",
       "4            46.457              31.007               34.728   \n",
       "\n",
       "   + 20 Mbps - 30 Mbps  + 30 Mbps    OTROS      Total  \n",
       "0               98.670  3.760.109   97.634  4.794.665  \n",
       "1                8.116  1.299.117  106.772  1.551.926  \n",
       "2                3.122     52.739    2.280     70.909  \n",
       "3                3.039     94.866    3.909    143.663  \n",
       "4               15.770     19.048   20.026    168.759  "
      ]
     },
     "execution_count": 37,
     "metadata": {},
     "output_type": "execute_result"
    }
   ],
   "source": [
    "df2.head()"
   ]
  },
  {
   "cell_type": "markdown",
   "metadata": {},
   "source": [
    "### Rename the columns for an easier read"
   ]
  },
  {
   "cell_type": "code",
   "execution_count": 38,
   "metadata": {},
   "outputs": [],
   "source": [
    "df2Columns = {'Año': 'Year', 'Trimestre': 'Quarter', 'Provincia': 'Province', 'HASTA 512 kbps': 'Up To 512 kbps', 'OTROS': 'Others',}"
   ]
  },
  {
   "cell_type": "code",
   "execution_count": 39,
   "metadata": {},
   "outputs": [],
   "source": [
    "df2.rename(columns = df2Columns, inplace = True)"
   ]
  },
  {
   "cell_type": "code",
   "execution_count": 40,
   "metadata": {},
   "outputs": [
    {
     "data": {
      "text/html": [
       "<div>\n",
       "<style scoped>\n",
       "    .dataframe tbody tr th:only-of-type {\n",
       "        vertical-align: middle;\n",
       "    }\n",
       "\n",
       "    .dataframe tbody tr th {\n",
       "        vertical-align: top;\n",
       "    }\n",
       "\n",
       "    .dataframe thead th {\n",
       "        text-align: right;\n",
       "    }\n",
       "</style>\n",
       "<table border=\"1\" class=\"dataframe\">\n",
       "  <thead>\n",
       "    <tr style=\"text-align: right;\">\n",
       "      <th></th>\n",
       "      <th>Year</th>\n",
       "      <th>Quarter</th>\n",
       "      <th>Province</th>\n",
       "      <th>Up To 512 kbps</th>\n",
       "      <th>+ 512 Kbps - 1 Mbps</th>\n",
       "      <th>+ 1 Mbps - 6 Mbps</th>\n",
       "      <th>+ 6 Mbps - 10 Mbps</th>\n",
       "      <th>+ 10 Mbps - 20 Mbps</th>\n",
       "      <th>+ 20 Mbps - 30 Mbps</th>\n",
       "      <th>+ 30 Mbps</th>\n",
       "      <th>Others</th>\n",
       "      <th>Total</th>\n",
       "    </tr>\n",
       "  </thead>\n",
       "  <tbody>\n",
       "    <tr>\n",
       "      <th>0</th>\n",
       "      <td>2022</td>\n",
       "      <td>4</td>\n",
       "      <td>Buenos Aires</td>\n",
       "      <td>28.934</td>\n",
       "      <td>23.347</td>\n",
       "      <td>259.866</td>\n",
       "      <td>281.550</td>\n",
       "      <td>244.555</td>\n",
       "      <td>98.670</td>\n",
       "      <td>3.760.109</td>\n",
       "      <td>97.634</td>\n",
       "      <td>4.794.665</td>\n",
       "    </tr>\n",
       "    <tr>\n",
       "      <th>1</th>\n",
       "      <td>2022</td>\n",
       "      <td>4</td>\n",
       "      <td>Capital Federal</td>\n",
       "      <td>516.000</td>\n",
       "      <td>5.096</td>\n",
       "      <td>31.320</td>\n",
       "      <td>64.653</td>\n",
       "      <td>36.336</td>\n",
       "      <td>8.116</td>\n",
       "      <td>1.299.117</td>\n",
       "      <td>106.772</td>\n",
       "      <td>1.551.926</td>\n",
       "    </tr>\n",
       "    <tr>\n",
       "      <th>2</th>\n",
       "      <td>2022</td>\n",
       "      <td>4</td>\n",
       "      <td>Catamarca</td>\n",
       "      <td>71.000</td>\n",
       "      <td>315.000</td>\n",
       "      <td>2.716</td>\n",
       "      <td>5.028</td>\n",
       "      <td>4.638</td>\n",
       "      <td>3.122</td>\n",
       "      <td>52.739</td>\n",
       "      <td>2.280</td>\n",
       "      <td>70.909</td>\n",
       "    </tr>\n",
       "    <tr>\n",
       "      <th>3</th>\n",
       "      <td>2022</td>\n",
       "      <td>4</td>\n",
       "      <td>Chaco</td>\n",
       "      <td>461.000</td>\n",
       "      <td>771.000</td>\n",
       "      <td>16.067</td>\n",
       "      <td>17.846</td>\n",
       "      <td>6.704</td>\n",
       "      <td>3.039</td>\n",
       "      <td>94.866</td>\n",
       "      <td>3.909</td>\n",
       "      <td>143.663</td>\n",
       "    </tr>\n",
       "    <tr>\n",
       "      <th>4</th>\n",
       "      <td>2022</td>\n",
       "      <td>4</td>\n",
       "      <td>Chubut</td>\n",
       "      <td>109.000</td>\n",
       "      <td>1.614</td>\n",
       "      <td>46.457</td>\n",
       "      <td>31.007</td>\n",
       "      <td>34.728</td>\n",
       "      <td>15.770</td>\n",
       "      <td>19.048</td>\n",
       "      <td>20.026</td>\n",
       "      <td>168.759</td>\n",
       "    </tr>\n",
       "  </tbody>\n",
       "</table>\n",
       "</div>"
      ],
      "text/plain": [
       "   Year  Quarter         Province  Up To 512 kbps  + 512 Kbps - 1 Mbps  \\\n",
       "0  2022        4     Buenos Aires          28.934               23.347   \n",
       "1  2022        4  Capital Federal         516.000                5.096   \n",
       "2  2022        4        Catamarca          71.000              315.000   \n",
       "3  2022        4            Chaco         461.000              771.000   \n",
       "4  2022        4           Chubut         109.000                1.614   \n",
       "\n",
       "  + 1 Mbps - 6 Mbps  + 6 Mbps - 10 Mbps  + 10 Mbps - 20 Mbps  \\\n",
       "0           259.866             281.550              244.555   \n",
       "1            31.320              64.653               36.336   \n",
       "2             2.716               5.028                4.638   \n",
       "3            16.067              17.846                6.704   \n",
       "4            46.457              31.007               34.728   \n",
       "\n",
       "   + 20 Mbps - 30 Mbps  + 30 Mbps   Others      Total  \n",
       "0               98.670  3.760.109   97.634  4.794.665  \n",
       "1                8.116  1.299.117  106.772  1.551.926  \n",
       "2                3.122     52.739    2.280     70.909  \n",
       "3                3.039     94.866    3.909    143.663  \n",
       "4               15.770     19.048   20.026    168.759  "
      ]
     },
     "execution_count": 40,
     "metadata": {},
     "output_type": "execute_result"
    }
   ],
   "source": [
    "df2.head()"
   ]
  },
  {
   "cell_type": "code",
   "execution_count": 41,
   "metadata": {},
   "outputs": [
    {
     "name": "stdout",
     "output_type": "stream",
     "text": [
      "<class 'pandas.core.frame.DataFrame'>\n",
      "RangeIndex: 864 entries, 0 to 863\n",
      "Data columns (total 12 columns):\n",
      " #   Column               Non-Null Count  Dtype  \n",
      "---  ------               --------------  -----  \n",
      " 0   Year                 864 non-null    int64  \n",
      " 1   Quarter              864 non-null    int64  \n",
      " 2   Province             864 non-null    object \n",
      " 3   Up To 512 kbps       864 non-null    float64\n",
      " 4   + 512 Kbps - 1 Mbps  864 non-null    float64\n",
      " 5   + 1 Mbps - 6 Mbps    864 non-null    object \n",
      " 6   + 6 Mbps - 10 Mbps   864 non-null    float64\n",
      " 7   + 10 Mbps - 20 Mbps  864 non-null    float64\n",
      " 8   + 20 Mbps - 30 Mbps  864 non-null    float64\n",
      " 9   + 30 Mbps            864 non-null    object \n",
      " 10  Others               858 non-null    float64\n",
      " 11  Total                864 non-null    object \n",
      "dtypes: float64(6), int64(2), object(4)\n",
      "memory usage: 81.1+ KB\n"
     ]
    }
   ],
   "source": [
    "df2.info()"
   ]
  },
  {
   "cell_type": "markdown",
   "metadata": {},
   "source": [
    "### Check for null and duplicate values"
   ]
  },
  {
   "cell_type": "code",
   "execution_count": 42,
   "metadata": {},
   "outputs": [
    {
     "data": {
      "text/plain": [
       "Year                   0\n",
       "Quarter                0\n",
       "Province               0\n",
       "Up To 512 kbps         0\n",
       "+ 512 Kbps - 1 Mbps    0\n",
       "+ 1 Mbps - 6 Mbps      0\n",
       "+ 6 Mbps - 10 Mbps     0\n",
       "+ 10 Mbps - 20 Mbps    0\n",
       "+ 20 Mbps - 30 Mbps    0\n",
       "+ 30 Mbps              0\n",
       "Others                 6\n",
       "Total                  0\n",
       "dtype: int64"
      ]
     },
     "execution_count": 42,
     "metadata": {},
     "output_type": "execute_result"
    }
   ],
   "source": [
    "df2.isna().sum()"
   ]
  },
  {
   "cell_type": "markdown",
   "metadata": {},
   "source": [
    "### Drop all the null values"
   ]
  },
  {
   "cell_type": "code",
   "execution_count": 43,
   "metadata": {},
   "outputs": [],
   "source": [
    "df2.dropna(inplace = True)"
   ]
  },
  {
   "cell_type": "code",
   "execution_count": 44,
   "metadata": {},
   "outputs": [
    {
     "data": {
      "text/html": [
       "<div>\n",
       "<style scoped>\n",
       "    .dataframe tbody tr th:only-of-type {\n",
       "        vertical-align: middle;\n",
       "    }\n",
       "\n",
       "    .dataframe tbody tr th {\n",
       "        vertical-align: top;\n",
       "    }\n",
       "\n",
       "    .dataframe thead th {\n",
       "        text-align: right;\n",
       "    }\n",
       "</style>\n",
       "<table border=\"1\" class=\"dataframe\">\n",
       "  <thead>\n",
       "    <tr style=\"text-align: right;\">\n",
       "      <th></th>\n",
       "      <th>index</th>\n",
       "      <th>Year</th>\n",
       "      <th>Quarter</th>\n",
       "      <th>Province</th>\n",
       "      <th>Up To 512 kbps</th>\n",
       "      <th>+ 512 Kbps - 1 Mbps</th>\n",
       "      <th>+ 1 Mbps - 6 Mbps</th>\n",
       "      <th>+ 6 Mbps - 10 Mbps</th>\n",
       "      <th>+ 10 Mbps - 20 Mbps</th>\n",
       "      <th>+ 20 Mbps - 30 Mbps</th>\n",
       "      <th>+ 30 Mbps</th>\n",
       "      <th>Others</th>\n",
       "      <th>Total</th>\n",
       "    </tr>\n",
       "  </thead>\n",
       "  <tbody>\n",
       "    <tr>\n",
       "      <th>0</th>\n",
       "      <td>0</td>\n",
       "      <td>2022</td>\n",
       "      <td>4</td>\n",
       "      <td>Buenos Aires</td>\n",
       "      <td>28.934</td>\n",
       "      <td>23.347</td>\n",
       "      <td>259.866</td>\n",
       "      <td>281.550</td>\n",
       "      <td>244.555</td>\n",
       "      <td>98.670</td>\n",
       "      <td>3.760.109</td>\n",
       "      <td>97.634</td>\n",
       "      <td>4.794.665</td>\n",
       "    </tr>\n",
       "    <tr>\n",
       "      <th>1</th>\n",
       "      <td>1</td>\n",
       "      <td>2022</td>\n",
       "      <td>4</td>\n",
       "      <td>Capital Federal</td>\n",
       "      <td>516.000</td>\n",
       "      <td>5.096</td>\n",
       "      <td>31.320</td>\n",
       "      <td>64.653</td>\n",
       "      <td>36.336</td>\n",
       "      <td>8.116</td>\n",
       "      <td>1.299.117</td>\n",
       "      <td>106.772</td>\n",
       "      <td>1.551.926</td>\n",
       "    </tr>\n",
       "    <tr>\n",
       "      <th>2</th>\n",
       "      <td>2</td>\n",
       "      <td>2022</td>\n",
       "      <td>4</td>\n",
       "      <td>Catamarca</td>\n",
       "      <td>71.000</td>\n",
       "      <td>315.000</td>\n",
       "      <td>2.716</td>\n",
       "      <td>5.028</td>\n",
       "      <td>4.638</td>\n",
       "      <td>3.122</td>\n",
       "      <td>52.739</td>\n",
       "      <td>2.280</td>\n",
       "      <td>70.909</td>\n",
       "    </tr>\n",
       "    <tr>\n",
       "      <th>3</th>\n",
       "      <td>3</td>\n",
       "      <td>2022</td>\n",
       "      <td>4</td>\n",
       "      <td>Chaco</td>\n",
       "      <td>461.000</td>\n",
       "      <td>771.000</td>\n",
       "      <td>16.067</td>\n",
       "      <td>17.846</td>\n",
       "      <td>6.704</td>\n",
       "      <td>3.039</td>\n",
       "      <td>94.866</td>\n",
       "      <td>3.909</td>\n",
       "      <td>143.663</td>\n",
       "    </tr>\n",
       "    <tr>\n",
       "      <th>4</th>\n",
       "      <td>4</td>\n",
       "      <td>2022</td>\n",
       "      <td>4</td>\n",
       "      <td>Chubut</td>\n",
       "      <td>109.000</td>\n",
       "      <td>1.614</td>\n",
       "      <td>46.457</td>\n",
       "      <td>31.007</td>\n",
       "      <td>34.728</td>\n",
       "      <td>15.770</td>\n",
       "      <td>19.048</td>\n",
       "      <td>20.026</td>\n",
       "      <td>168.759</td>\n",
       "    </tr>\n",
       "    <tr>\n",
       "      <th>...</th>\n",
       "      <td>...</td>\n",
       "      <td>...</td>\n",
       "      <td>...</td>\n",
       "      <td>...</td>\n",
       "      <td>...</td>\n",
       "      <td>...</td>\n",
       "      <td>...</td>\n",
       "      <td>...</td>\n",
       "      <td>...</td>\n",
       "      <td>...</td>\n",
       "      <td>...</td>\n",
       "      <td>...</td>\n",
       "      <td>...</td>\n",
       "    </tr>\n",
       "    <tr>\n",
       "      <th>853</th>\n",
       "      <td>859</td>\n",
       "      <td>2014</td>\n",
       "      <td>1</td>\n",
       "      <td>Santa Cruz</td>\n",
       "      <td>161.000</td>\n",
       "      <td>1.625</td>\n",
       "      <td>24.972</td>\n",
       "      <td>1.000</td>\n",
       "      <td>1.000</td>\n",
       "      <td>0.000</td>\n",
       "      <td>0</td>\n",
       "      <td>0.000</td>\n",
       "      <td>26.760</td>\n",
       "    </tr>\n",
       "    <tr>\n",
       "      <th>854</th>\n",
       "      <td>860</td>\n",
       "      <td>2014</td>\n",
       "      <td>1</td>\n",
       "      <td>Santa Fe</td>\n",
       "      <td>8.456</td>\n",
       "      <td>124.468</td>\n",
       "      <td>345.225</td>\n",
       "      <td>20.328</td>\n",
       "      <td>6.845</td>\n",
       "      <td>23.000</td>\n",
       "      <td>668</td>\n",
       "      <td>0.000</td>\n",
       "      <td>506.013</td>\n",
       "    </tr>\n",
       "    <tr>\n",
       "      <th>855</th>\n",
       "      <td>861</td>\n",
       "      <td>2014</td>\n",
       "      <td>1</td>\n",
       "      <td>Santiago Del Estero</td>\n",
       "      <td>1.234</td>\n",
       "      <td>10.531</td>\n",
       "      <td>22.817</td>\n",
       "      <td>2.422</td>\n",
       "      <td>109.000</td>\n",
       "      <td>0.000</td>\n",
       "      <td>0</td>\n",
       "      <td>0.000</td>\n",
       "      <td>37.113</td>\n",
       "    </tr>\n",
       "    <tr>\n",
       "      <th>856</th>\n",
       "      <td>862</td>\n",
       "      <td>2014</td>\n",
       "      <td>1</td>\n",
       "      <td>Tierra Del Fuego</td>\n",
       "      <td>12.000</td>\n",
       "      <td>607.000</td>\n",
       "      <td>30.902</td>\n",
       "      <td>6.000</td>\n",
       "      <td>0.000</td>\n",
       "      <td>0.000</td>\n",
       "      <td>0</td>\n",
       "      <td>0.000</td>\n",
       "      <td>31.527</td>\n",
       "    </tr>\n",
       "    <tr>\n",
       "      <th>857</th>\n",
       "      <td>863</td>\n",
       "      <td>2014</td>\n",
       "      <td>1</td>\n",
       "      <td>Tucumán</td>\n",
       "      <td>6.000</td>\n",
       "      <td>34.672</td>\n",
       "      <td>83.210</td>\n",
       "      <td>11.779</td>\n",
       "      <td>362.000</td>\n",
       "      <td>3.000</td>\n",
       "      <td>0</td>\n",
       "      <td>0.000</td>\n",
       "      <td>130.032</td>\n",
       "    </tr>\n",
       "  </tbody>\n",
       "</table>\n",
       "<p>858 rows × 13 columns</p>\n",
       "</div>"
      ],
      "text/plain": [
       "     index  Year  Quarter             Province  Up To 512 kbps  \\\n",
       "0        0  2022        4         Buenos Aires          28.934   \n",
       "1        1  2022        4      Capital Federal         516.000   \n",
       "2        2  2022        4            Catamarca          71.000   \n",
       "3        3  2022        4                Chaco         461.000   \n",
       "4        4  2022        4               Chubut         109.000   \n",
       "..     ...   ...      ...                  ...             ...   \n",
       "853    859  2014        1           Santa Cruz         161.000   \n",
       "854    860  2014        1             Santa Fe           8.456   \n",
       "855    861  2014        1  Santiago Del Estero           1.234   \n",
       "856    862  2014        1     Tierra Del Fuego          12.000   \n",
       "857    863  2014        1              Tucumán           6.000   \n",
       "\n",
       "     + 512 Kbps - 1 Mbps + 1 Mbps - 6 Mbps  + 6 Mbps - 10 Mbps  \\\n",
       "0                 23.347           259.866             281.550   \n",
       "1                  5.096            31.320              64.653   \n",
       "2                315.000             2.716               5.028   \n",
       "3                771.000            16.067              17.846   \n",
       "4                  1.614            46.457              31.007   \n",
       "..                   ...               ...                 ...   \n",
       "853                1.625            24.972               1.000   \n",
       "854              124.468           345.225              20.328   \n",
       "855               10.531            22.817               2.422   \n",
       "856              607.000            30.902               6.000   \n",
       "857               34.672            83.210              11.779   \n",
       "\n",
       "     + 10 Mbps - 20 Mbps  + 20 Mbps - 30 Mbps  + 30 Mbps   Others      Total  \n",
       "0                244.555               98.670  3.760.109   97.634  4.794.665  \n",
       "1                 36.336                8.116  1.299.117  106.772  1.551.926  \n",
       "2                  4.638                3.122     52.739    2.280     70.909  \n",
       "3                  6.704                3.039     94.866    3.909    143.663  \n",
       "4                 34.728               15.770     19.048   20.026    168.759  \n",
       "..                   ...                  ...        ...      ...        ...  \n",
       "853                1.000                0.000          0    0.000     26.760  \n",
       "854                6.845               23.000        668    0.000    506.013  \n",
       "855              109.000                0.000          0    0.000     37.113  \n",
       "856                0.000                0.000          0    0.000     31.527  \n",
       "857              362.000                3.000          0    0.000    130.032  \n",
       "\n",
       "[858 rows x 13 columns]"
      ]
     },
     "execution_count": 44,
     "metadata": {},
     "output_type": "execute_result"
    }
   ],
   "source": [
    "df2.reset_index()"
   ]
  },
  {
   "cell_type": "code",
   "execution_count": 45,
   "metadata": {},
   "outputs": [
    {
     "data": {
      "text/plain": [
       "Year                   0\n",
       "Quarter                0\n",
       "Province               0\n",
       "Up To 512 kbps         0\n",
       "+ 512 Kbps - 1 Mbps    0\n",
       "+ 1 Mbps - 6 Mbps      0\n",
       "+ 6 Mbps - 10 Mbps     0\n",
       "+ 10 Mbps - 20 Mbps    0\n",
       "+ 20 Mbps - 30 Mbps    0\n",
       "+ 30 Mbps              0\n",
       "Others                 0\n",
       "Total                  0\n",
       "dtype: int64"
      ]
     },
     "execution_count": 45,
     "metadata": {},
     "output_type": "execute_result"
    }
   ],
   "source": [
    "df2.isna().sum()"
   ]
  },
  {
   "cell_type": "markdown",
   "metadata": {},
   "source": [
    "### See if there is any duplicate value"
   ]
  },
  {
   "cell_type": "code",
   "execution_count": 46,
   "metadata": {},
   "outputs": [
    {
     "data": {
      "text/plain": [
       "False    858\n",
       "Name: count, dtype: int64"
      ]
     },
     "execution_count": 46,
     "metadata": {},
     "output_type": "execute_result"
    }
   ],
   "source": [
    "df2.duplicated().value_counts()"
   ]
  },
  {
   "cell_type": "code",
   "execution_count": 47,
   "metadata": {},
   "outputs": [],
   "source": [
    "df2.reset_index(inplace = True)"
   ]
  },
  {
   "cell_type": "code",
   "execution_count": 48,
   "metadata": {},
   "outputs": [],
   "source": [
    "df2.drop('index', axis = 1, inplace = True)"
   ]
  },
  {
   "cell_type": "code",
   "execution_count": 49,
   "metadata": {},
   "outputs": [
    {
     "data": {
      "text/html": [
       "<div>\n",
       "<style scoped>\n",
       "    .dataframe tbody tr th:only-of-type {\n",
       "        vertical-align: middle;\n",
       "    }\n",
       "\n",
       "    .dataframe tbody tr th {\n",
       "        vertical-align: top;\n",
       "    }\n",
       "\n",
       "    .dataframe thead th {\n",
       "        text-align: right;\n",
       "    }\n",
       "</style>\n",
       "<table border=\"1\" class=\"dataframe\">\n",
       "  <thead>\n",
       "    <tr style=\"text-align: right;\">\n",
       "      <th></th>\n",
       "      <th>Year</th>\n",
       "      <th>Quarter</th>\n",
       "      <th>Province</th>\n",
       "      <th>Up To 512 kbps</th>\n",
       "      <th>+ 512 Kbps - 1 Mbps</th>\n",
       "      <th>+ 1 Mbps - 6 Mbps</th>\n",
       "      <th>+ 6 Mbps - 10 Mbps</th>\n",
       "      <th>+ 10 Mbps - 20 Mbps</th>\n",
       "      <th>+ 20 Mbps - 30 Mbps</th>\n",
       "      <th>+ 30 Mbps</th>\n",
       "      <th>Others</th>\n",
       "      <th>Total</th>\n",
       "    </tr>\n",
       "  </thead>\n",
       "  <tbody>\n",
       "    <tr>\n",
       "      <th>0</th>\n",
       "      <td>2022</td>\n",
       "      <td>4</td>\n",
       "      <td>Buenos Aires</td>\n",
       "      <td>28.934</td>\n",
       "      <td>23.347</td>\n",
       "      <td>259.866</td>\n",
       "      <td>281.550</td>\n",
       "      <td>244.555</td>\n",
       "      <td>98.670</td>\n",
       "      <td>3.760.109</td>\n",
       "      <td>97.634</td>\n",
       "      <td>4.794.665</td>\n",
       "    </tr>\n",
       "    <tr>\n",
       "      <th>1</th>\n",
       "      <td>2022</td>\n",
       "      <td>4</td>\n",
       "      <td>Capital Federal</td>\n",
       "      <td>516.000</td>\n",
       "      <td>5.096</td>\n",
       "      <td>31.320</td>\n",
       "      <td>64.653</td>\n",
       "      <td>36.336</td>\n",
       "      <td>8.116</td>\n",
       "      <td>1.299.117</td>\n",
       "      <td>106.772</td>\n",
       "      <td>1.551.926</td>\n",
       "    </tr>\n",
       "    <tr>\n",
       "      <th>2</th>\n",
       "      <td>2022</td>\n",
       "      <td>4</td>\n",
       "      <td>Catamarca</td>\n",
       "      <td>71.000</td>\n",
       "      <td>315.000</td>\n",
       "      <td>2.716</td>\n",
       "      <td>5.028</td>\n",
       "      <td>4.638</td>\n",
       "      <td>3.122</td>\n",
       "      <td>52.739</td>\n",
       "      <td>2.280</td>\n",
       "      <td>70.909</td>\n",
       "    </tr>\n",
       "    <tr>\n",
       "      <th>3</th>\n",
       "      <td>2022</td>\n",
       "      <td>4</td>\n",
       "      <td>Chaco</td>\n",
       "      <td>461.000</td>\n",
       "      <td>771.000</td>\n",
       "      <td>16.067</td>\n",
       "      <td>17.846</td>\n",
       "      <td>6.704</td>\n",
       "      <td>3.039</td>\n",
       "      <td>94.866</td>\n",
       "      <td>3.909</td>\n",
       "      <td>143.663</td>\n",
       "    </tr>\n",
       "    <tr>\n",
       "      <th>4</th>\n",
       "      <td>2022</td>\n",
       "      <td>4</td>\n",
       "      <td>Chubut</td>\n",
       "      <td>109.000</td>\n",
       "      <td>1.614</td>\n",
       "      <td>46.457</td>\n",
       "      <td>31.007</td>\n",
       "      <td>34.728</td>\n",
       "      <td>15.770</td>\n",
       "      <td>19.048</td>\n",
       "      <td>20.026</td>\n",
       "      <td>168.759</td>\n",
       "    </tr>\n",
       "  </tbody>\n",
       "</table>\n",
       "</div>"
      ],
      "text/plain": [
       "   Year  Quarter         Province  Up To 512 kbps  + 512 Kbps - 1 Mbps  \\\n",
       "0  2022        4     Buenos Aires          28.934               23.347   \n",
       "1  2022        4  Capital Federal         516.000                5.096   \n",
       "2  2022        4        Catamarca          71.000              315.000   \n",
       "3  2022        4            Chaco         461.000              771.000   \n",
       "4  2022        4           Chubut         109.000                1.614   \n",
       "\n",
       "  + 1 Mbps - 6 Mbps  + 6 Mbps - 10 Mbps  + 10 Mbps - 20 Mbps  \\\n",
       "0           259.866             281.550              244.555   \n",
       "1            31.320              64.653               36.336   \n",
       "2             2.716               5.028                4.638   \n",
       "3            16.067              17.846                6.704   \n",
       "4            46.457              31.007               34.728   \n",
       "\n",
       "   + 20 Mbps - 30 Mbps  + 30 Mbps   Others      Total  \n",
       "0               98.670  3.760.109   97.634  4.794.665  \n",
       "1                8.116  1.299.117  106.772  1.551.926  \n",
       "2                3.122     52.739    2.280     70.909  \n",
       "3                3.039     94.866    3.909    143.663  \n",
       "4               15.770     19.048   20.026    168.759  "
      ]
     },
     "execution_count": 49,
     "metadata": {},
     "output_type": "execute_result"
    }
   ],
   "source": [
    "df2.head()"
   ]
  },
  {
   "cell_type": "markdown",
   "metadata": {},
   "source": [
    "### Since most of the people nowadays have faster Internet connections than years ago, we'll just be working with 30+ MBps of speed.\n",
    "#### In order to do so, we first need to convert said column to a numeric column"
   ]
  },
  {
   "cell_type": "code",
   "execution_count": 50,
   "metadata": {},
   "outputs": [],
   "source": [
    "df2['+ 30 Mbps'] = pd.to_numeric(df2['+ 30 Mbps'], errors = 'coerce')"
   ]
  },
  {
   "cell_type": "markdown",
   "metadata": {},
   "source": [
    "### Visualize the mean value for each province"
   ]
  },
  {
   "cell_type": "code",
   "execution_count": 51,
   "metadata": {},
   "outputs": [],
   "source": [
    "sumConnection = (df2['+ 30 Mbps'].sum())"
   ]
  },
  {
   "cell_type": "code",
   "execution_count": 52,
   "metadata": {},
   "outputs": [],
   "source": [
    "countConnection = df2['+ 30 Mbps'].count()"
   ]
  },
  {
   "cell_type": "code",
   "execution_count": 53,
   "metadata": {},
   "outputs": [
    {
     "data": {
      "text/plain": [
       "91.622177245509"
      ]
     },
     "execution_count": 53,
     "metadata": {},
     "output_type": "execute_result"
    }
   ],
   "source": [
    "nationalMean = sumConnection / countConnection\n",
    "nationalMean"
   ]
  },
  {
   "cell_type": "code",
   "execution_count": 54,
   "metadata": {},
   "outputs": [],
   "source": [
    "orderedConnection = df2.groupby('Province')['+ 30 Mbps'].mean().sort_values(ascending = False).index"
   ]
  },
  {
   "cell_type": "code",
   "execution_count": 55,
   "metadata": {},
   "outputs": [
    {
     "data": {
      "text/html": [
       "<div>\n",
       "<style scoped>\n",
       "    .dataframe tbody tr th:only-of-type {\n",
       "        vertical-align: middle;\n",
       "    }\n",
       "\n",
       "    .dataframe tbody tr th {\n",
       "        vertical-align: top;\n",
       "    }\n",
       "\n",
       "    .dataframe thead th {\n",
       "        text-align: right;\n",
       "    }\n",
       "</style>\n",
       "<table border=\"1\" class=\"dataframe\">\n",
       "  <thead>\n",
       "    <tr style=\"text-align: right;\">\n",
       "      <th></th>\n",
       "      <th>Year</th>\n",
       "      <th>Quarter</th>\n",
       "      <th>Province</th>\n",
       "      <th>Up To 512 kbps</th>\n",
       "      <th>+ 512 Kbps - 1 Mbps</th>\n",
       "      <th>+ 1 Mbps - 6 Mbps</th>\n",
       "      <th>+ 6 Mbps - 10 Mbps</th>\n",
       "      <th>+ 10 Mbps - 20 Mbps</th>\n",
       "      <th>+ 20 Mbps - 30 Mbps</th>\n",
       "      <th>+ 30 Mbps</th>\n",
       "      <th>Others</th>\n",
       "      <th>Total</th>\n",
       "    </tr>\n",
       "  </thead>\n",
       "  <tbody>\n",
       "    <tr>\n",
       "      <th>336</th>\n",
       "      <td>2019</td>\n",
       "      <td>2</td>\n",
       "      <td>Buenos Aires</td>\n",
       "      <td>199.768</td>\n",
       "      <td>46.852</td>\n",
       "      <td>1.436.259</td>\n",
       "      <td>217.785</td>\n",
       "      <td>438.663</td>\n",
       "      <td>502.275</td>\n",
       "      <td>985.767</td>\n",
       "      <td>43.438</td>\n",
       "      <td>3.870.807</td>\n",
       "    </tr>\n",
       "    <tr>\n",
       "      <th>94</th>\n",
       "      <td>2022</td>\n",
       "      <td>1</td>\n",
       "      <td>Tierra Del Fuego</td>\n",
       "      <td>24.000</td>\n",
       "      <td>894.000</td>\n",
       "      <td>12.849</td>\n",
       "      <td>15.640</td>\n",
       "      <td>18.034</td>\n",
       "      <td>1.767</td>\n",
       "      <td>982.000</td>\n",
       "      <td>2.421</td>\n",
       "      <td>52.611</td>\n",
       "    </tr>\n",
       "    <tr>\n",
       "      <th>217</th>\n",
       "      <td>2020</td>\n",
       "      <td>3</td>\n",
       "      <td>Capital Federal</td>\n",
       "      <td>264.000</td>\n",
       "      <td>312.000</td>\n",
       "      <td>162.222</td>\n",
       "      <td>85.083</td>\n",
       "      <td>68.753</td>\n",
       "      <td>78.028</td>\n",
       "      <td>977.766</td>\n",
       "      <td>247.000</td>\n",
       "      <td>1.372.675</td>\n",
       "    </tr>\n",
       "    <tr>\n",
       "      <th>142</th>\n",
       "      <td>2021</td>\n",
       "      <td>3</td>\n",
       "      <td>Tierra Del Fuego</td>\n",
       "      <td>17.000</td>\n",
       "      <td>0.000</td>\n",
       "      <td>23.723</td>\n",
       "      <td>13.397</td>\n",
       "      <td>9.782</td>\n",
       "      <td>1.433</td>\n",
       "      <td>976.000</td>\n",
       "      <td>895.000</td>\n",
       "      <td>50.223</td>\n",
       "    </tr>\n",
       "    <tr>\n",
       "      <th>322</th>\n",
       "      <td>2019</td>\n",
       "      <td>3</td>\n",
       "      <td>La Pampa</td>\n",
       "      <td>237.000</td>\n",
       "      <td>3.289</td>\n",
       "      <td>75.849</td>\n",
       "      <td>5.922</td>\n",
       "      <td>1.611</td>\n",
       "      <td>1.359</td>\n",
       "      <td>941.000</td>\n",
       "      <td>1.618</td>\n",
       "      <td>90.826</td>\n",
       "    </tr>\n",
       "    <tr>\n",
       "      <th>...</th>\n",
       "      <td>...</td>\n",
       "      <td>...</td>\n",
       "      <td>...</td>\n",
       "      <td>...</td>\n",
       "      <td>...</td>\n",
       "      <td>...</td>\n",
       "      <td>...</td>\n",
       "      <td>...</td>\n",
       "      <td>...</td>\n",
       "      <td>...</td>\n",
       "      <td>...</td>\n",
       "      <td>...</td>\n",
       "    </tr>\n",
       "    <tr>\n",
       "      <th>757</th>\n",
       "      <td>2015</td>\n",
       "      <td>1</td>\n",
       "      <td>Santa Cruz</td>\n",
       "      <td>205.000</td>\n",
       "      <td>27.000</td>\n",
       "      <td>26.048</td>\n",
       "      <td>2.000</td>\n",
       "      <td>0.000</td>\n",
       "      <td>0.000</td>\n",
       "      <td>0.000</td>\n",
       "      <td>0.000</td>\n",
       "      <td>26.282</td>\n",
       "    </tr>\n",
       "    <tr>\n",
       "      <th>596</th>\n",
       "      <td>2016</td>\n",
       "      <td>3</td>\n",
       "      <td>Catamarca</td>\n",
       "      <td>15.000</td>\n",
       "      <td>4.038</td>\n",
       "      <td>16.183</td>\n",
       "      <td>4.845</td>\n",
       "      <td>1.853</td>\n",
       "      <td>50.000</td>\n",
       "      <td>0.000</td>\n",
       "      <td>0.000</td>\n",
       "      <td>26.984</td>\n",
       "    </tr>\n",
       "    <tr>\n",
       "      <th>598</th>\n",
       "      <td>2016</td>\n",
       "      <td>3</td>\n",
       "      <td>Chubut</td>\n",
       "      <td>466.000</td>\n",
       "      <td>5.190</td>\n",
       "      <td>74.375</td>\n",
       "      <td>674.000</td>\n",
       "      <td>0.000</td>\n",
       "      <td>0.000</td>\n",
       "      <td>0.000</td>\n",
       "      <td>0.000</td>\n",
       "      <td>80.705</td>\n",
       "    </tr>\n",
       "    <tr>\n",
       "      <th>603</th>\n",
       "      <td>2016</td>\n",
       "      <td>3</td>\n",
       "      <td>Jujuy</td>\n",
       "      <td>286.000</td>\n",
       "      <td>6.878</td>\n",
       "      <td>27.425</td>\n",
       "      <td>5.943</td>\n",
       "      <td>1.978</td>\n",
       "      <td>31.000</td>\n",
       "      <td>0.000</td>\n",
       "      <td>0.000</td>\n",
       "      <td>42.541</td>\n",
       "    </tr>\n",
       "    <tr>\n",
       "      <th>857</th>\n",
       "      <td>2014</td>\n",
       "      <td>1</td>\n",
       "      <td>Tucumán</td>\n",
       "      <td>6.000</td>\n",
       "      <td>34.672</td>\n",
       "      <td>83.210</td>\n",
       "      <td>11.779</td>\n",
       "      <td>362.000</td>\n",
       "      <td>3.000</td>\n",
       "      <td>0.000</td>\n",
       "      <td>0.000</td>\n",
       "      <td>130.032</td>\n",
       "    </tr>\n",
       "  </tbody>\n",
       "</table>\n",
       "<p>835 rows × 12 columns</p>\n",
       "</div>"
      ],
      "text/plain": [
       "     Year  Quarter          Province  Up To 512 kbps  + 512 Kbps - 1 Mbps  \\\n",
       "336  2019        2      Buenos Aires         199.768               46.852   \n",
       "94   2022        1  Tierra Del Fuego          24.000              894.000   \n",
       "217  2020        3   Capital Federal         264.000              312.000   \n",
       "142  2021        3  Tierra Del Fuego          17.000                0.000   \n",
       "322  2019        3          La Pampa         237.000                3.289   \n",
       "..    ...      ...               ...             ...                  ...   \n",
       "757  2015        1        Santa Cruz         205.000               27.000   \n",
       "596  2016        3         Catamarca          15.000                4.038   \n",
       "598  2016        3            Chubut         466.000                5.190   \n",
       "603  2016        3             Jujuy         286.000                6.878   \n",
       "857  2014        1           Tucumán           6.000               34.672   \n",
       "\n",
       "    + 1 Mbps - 6 Mbps  + 6 Mbps - 10 Mbps  + 10 Mbps - 20 Mbps  \\\n",
       "336         1.436.259             217.785              438.663   \n",
       "94             12.849              15.640               18.034   \n",
       "217           162.222              85.083               68.753   \n",
       "142            23.723              13.397                9.782   \n",
       "322            75.849               5.922                1.611   \n",
       "..                ...                 ...                  ...   \n",
       "757            26.048               2.000                0.000   \n",
       "596            16.183               4.845                1.853   \n",
       "598            74.375             674.000                0.000   \n",
       "603            27.425               5.943                1.978   \n",
       "857            83.210              11.779              362.000   \n",
       "\n",
       "     + 20 Mbps - 30 Mbps  + 30 Mbps   Others      Total  \n",
       "336              502.275    985.767   43.438  3.870.807  \n",
       "94                 1.767    982.000    2.421     52.611  \n",
       "217               78.028    977.766  247.000  1.372.675  \n",
       "142                1.433    976.000  895.000     50.223  \n",
       "322                1.359    941.000    1.618     90.826  \n",
       "..                   ...        ...      ...        ...  \n",
       "757                0.000      0.000    0.000     26.282  \n",
       "596               50.000      0.000    0.000     26.984  \n",
       "598                0.000      0.000    0.000     80.705  \n",
       "603               31.000      0.000    0.000     42.541  \n",
       "857                3.000      0.000    0.000    130.032  \n",
       "\n",
       "[835 rows x 12 columns]"
      ]
     },
     "execution_count": 55,
     "metadata": {},
     "output_type": "execute_result"
    }
   ],
   "source": [
    "sorted_df2 = df2.sort_values(by ='+ 30 Mbps', ascending = False)\n",
    "sorted_df2.dropna()"
   ]
  },
  {
   "cell_type": "code",
   "execution_count": 56,
   "metadata": {},
   "outputs": [
    {
     "data": {
      "image/png": "[encoded data removed]",
      "text/plain": [
       "<Figure size 1400x1000 with 1 Axes>"
      ]
     },
     "metadata": {},
     "output_type": "display_data"
    }
   ],
   "source": [
    "plt.figure(figsize = (14, 10))\n",
    " \n",
    "sns.barplot(data = sorted_df2, x = 'Province', y = '+ 30 Mbps',order = orderedConnection, errorbar = None)\n",
    "sns.despine()\n",
    "plt.title('Average Download Speed By Province')\n",
    "plt.xticks(rotation = 75)\n",
    "plt.show()"
   ]
  },
  {
   "cell_type": "markdown",
   "metadata": {},
   "source": [
    "## As we can see, the province with the highest amount of high-speed Internet is `Córdoba` whilst `San Luis` is the one with the least high-speed connections <br>\n",
    "### We see that only seven provinces have on average a higher speed than the national mean"
   ]
  },
  {
   "cell_type": "markdown",
   "metadata": {},
   "source": [
    "# ``Conclusions``\n",
    "\n",
    " - ## The availability of wireless connections is still scarce, despite being implemented several years ago.\n",
    " - ## Wireless connection has seen a minor increase across the country.\n",
    " - ## High-speed Internet connection is yet to become a common feature in many cities regardless of its location, limiting access to fast and reliable connectivity for a significant portion of the population and preventing them from reaping the benefits it offers\n",
    " - ## The northern provinces of the country have the slowest connections, posing challenges for businesses to thrive."
   ]
  }
 ],
 "metadata": {
  "kernelspec": {
   "display_name": "Python 3",
   "language": "python",
   "name": "python3"
  },
  "language_info": {
   "codemirror_mode": {
    "name": "ipython",
    "version": 3
   },
   "file_extension": ".py",
   "mimetype": "text/x-python",
   "name": "python",
   "nbconvert_exporter": "python",
   "pygments_lexer": "ipython3",
   "version": "3.11.5"
  }
 },
 "nbformat": 4,
 "nbformat_minor": 2
}
