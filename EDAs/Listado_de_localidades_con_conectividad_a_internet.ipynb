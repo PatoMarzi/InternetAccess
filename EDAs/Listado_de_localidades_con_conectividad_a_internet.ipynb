{
 "cells": [
  {
   "cell_type": "markdown",
   "metadata": {},
   "source": [
    "#### Import `pandas` library in order to read and visualize the csv file."
   ]
  },
  {
   "cell_type": "code",
   "execution_count": 1,
   "metadata": {},
   "outputs": [],
   "source": [
    "import pandas as pd"
   ]
  },
  {
   "cell_type": "code",
   "execution_count": 2,
   "metadata": {},
   "outputs": [],
   "source": [
    "df = pd.read_csv('../DataSets/Listado_de_localidades_con_conectividad_a_internet.csv', sep = ',')"
   ]
  },
  {
   "cell_type": "markdown",
   "metadata": {},
   "source": [
    "### Check for any null value"
   ]
  },
  {
   "cell_type": "code",
   "execution_count": 3,
   "metadata": {},
   "outputs": [
    {
     "data": {
      "text/plain": [
       "Provincia         0\n",
       "Partido           0\n",
       "Localidad         0\n",
       "ADSL              0\n",
       "Cablemódem        0\n",
       "Dial Up           0\n",
       "Fibra óptica      0\n",
       "4G                0\n",
       "3G                0\n",
       "Telefonía Fija    0\n",
       "Wireless          0\n",
       "Satelital         0\n",
       "dtype: int64"
      ]
     },
     "execution_count": 3,
     "metadata": {},
     "output_type": "execute_result"
    }
   ],
   "source": [
    "df.isnull().sum()"
   ]
  },
  {
   "cell_type": "markdown",
   "metadata": {},
   "source": [
    "#### Inspect the first five rows of the DataFrame"
   ]
  },
  {
   "cell_type": "code",
   "execution_count": 4,
   "metadata": {},
   "outputs": [
    {
     "data": {
      "text/html": [
       "<div>\n",
       "<style scoped>\n",
       "    .dataframe tbody tr th:only-of-type {\n",
       "        vertical-align: middle;\n",
       "    }\n",
       "\n",
       "    .dataframe tbody tr th {\n",
       "        vertical-align: top;\n",
       "    }\n",
       "\n",
       "    .dataframe thead th {\n",
       "        text-align: right;\n",
       "    }\n",
       "</style>\n",
       "<table border=\"1\" class=\"dataframe\">\n",
       "  <thead>\n",
       "    <tr style=\"text-align: right;\">\n",
       "      <th></th>\n",
       "      <th>Provincia</th>\n",
       "      <th>Partido</th>\n",
       "      <th>Localidad</th>\n",
       "      <th>ADSL</th>\n",
       "      <th>Cablemódem</th>\n",
       "      <th>Dial Up</th>\n",
       "      <th>Fibra óptica</th>\n",
       "      <th>4G</th>\n",
       "      <th>3G</th>\n",
       "      <th>Telefonía Fija</th>\n",
       "      <th>Wireless</th>\n",
       "      <th>Satelital</th>\n",
       "    </tr>\n",
       "  </thead>\n",
       "  <tbody>\n",
       "    <tr>\n",
       "      <th>0</th>\n",
       "      <td>BUENOS AIRES</td>\n",
       "      <td>9 de Julio</td>\n",
       "      <td>Alfredo Demarchi (Est. Facundo Quiroga)</td>\n",
       "      <td>SI</td>\n",
       "      <td>--</td>\n",
       "      <td>--</td>\n",
       "      <td>--</td>\n",
       "      <td>SI</td>\n",
       "      <td>SI</td>\n",
       "      <td>SI</td>\n",
       "      <td>--</td>\n",
       "      <td>--</td>\n",
       "    </tr>\n",
       "    <tr>\n",
       "      <th>1</th>\n",
       "      <td>BUENOS AIRES</td>\n",
       "      <td>9 de Julio</td>\n",
       "      <td>Carlos María Naón</td>\n",
       "      <td>--</td>\n",
       "      <td>--</td>\n",
       "      <td>--</td>\n",
       "      <td>--</td>\n",
       "      <td>SI</td>\n",
       "      <td>SI</td>\n",
       "      <td>SI</td>\n",
       "      <td>--</td>\n",
       "      <td>--</td>\n",
       "    </tr>\n",
       "    <tr>\n",
       "      <th>2</th>\n",
       "      <td>BUENOS AIRES</td>\n",
       "      <td>9 de Julio</td>\n",
       "      <td>Dudignac</td>\n",
       "      <td>--</td>\n",
       "      <td>--</td>\n",
       "      <td>SI</td>\n",
       "      <td>--</td>\n",
       "      <td>SI</td>\n",
       "      <td>SI</td>\n",
       "      <td>SI</td>\n",
       "      <td>SI</td>\n",
       "      <td>--</td>\n",
       "    </tr>\n",
       "    <tr>\n",
       "      <th>3</th>\n",
       "      <td>BUENOS AIRES</td>\n",
       "      <td>9 de Julio</td>\n",
       "      <td>La Aurora (Est. La Niña)</td>\n",
       "      <td>--</td>\n",
       "      <td>--</td>\n",
       "      <td>--</td>\n",
       "      <td>--</td>\n",
       "      <td>SI</td>\n",
       "      <td>--</td>\n",
       "      <td>--</td>\n",
       "      <td>--</td>\n",
       "      <td>--</td>\n",
       "    </tr>\n",
       "    <tr>\n",
       "      <th>4</th>\n",
       "      <td>BUENOS AIRES</td>\n",
       "      <td>9 de Julio</td>\n",
       "      <td>Manuel B. Gonnet (Est. French)</td>\n",
       "      <td>SI</td>\n",
       "      <td>--</td>\n",
       "      <td>--</td>\n",
       "      <td>SI</td>\n",
       "      <td>SI</td>\n",
       "      <td>SI</td>\n",
       "      <td>SI</td>\n",
       "      <td>--</td>\n",
       "      <td>--</td>\n",
       "    </tr>\n",
       "  </tbody>\n",
       "</table>\n",
       "</div>"
      ],
      "text/plain": [
       "      Provincia     Partido                                Localidad ADSL  \\\n",
       "0  BUENOS AIRES  9 de Julio  Alfredo Demarchi (Est. Facundo Quiroga)   SI   \n",
       "1  BUENOS AIRES  9 de Julio                        Carlos María Naón   --   \n",
       "2  BUENOS AIRES  9 de Julio                                 Dudignac   --   \n",
       "3  BUENOS AIRES  9 de Julio                 La Aurora (Est. La Niña)   --   \n",
       "4  BUENOS AIRES  9 de Julio           Manuel B. Gonnet (Est. French)   SI   \n",
       "\n",
       "  Cablemódem Dial Up Fibra óptica  4G  3G Telefonía Fija Wireless Satelital  \n",
       "0         --      --           --  SI  SI             SI       --        --  \n",
       "1         --      --           --  SI  SI             SI       --        --  \n",
       "2         --      SI           --  SI  SI             SI       SI        --  \n",
       "3         --      --           --  SI  --             --       --        --  \n",
       "4         --      --           SI  SI  SI             SI       --        --  "
      ]
     },
     "execution_count": 4,
     "metadata": {},
     "output_type": "execute_result"
    }
   ],
   "source": [
    "df.head()"
   ]
  },
  {
   "cell_type": "markdown",
   "metadata": {},
   "source": [
    "### Now we check for any duplicate value"
   ]
  },
  {
   "cell_type": "code",
   "execution_count": 5,
   "metadata": {},
   "outputs": [
    {
     "data": {
      "text/plain": [
       "False    4309\n",
       "True        2\n",
       "Name: count, dtype: int64"
      ]
     },
     "execution_count": 5,
     "metadata": {},
     "output_type": "execute_result"
    }
   ],
   "source": [
    "df.duplicated().value_counts()"
   ]
  },
  {
   "cell_type": "code",
   "execution_count": 6,
   "metadata": {},
   "outputs": [],
   "source": [
    "df.drop_duplicates(inplace = True)"
   ]
  },
  {
   "cell_type": "markdown",
   "metadata": {},
   "source": [
    "#### Replace the old values with True or False values"
   ]
  },
  {
   "cell_type": "code",
   "execution_count": 7,
   "metadata": {},
   "outputs": [],
   "source": [
    "df['ADSL'].replace(('--', 'SI'), (False, True), inplace = True)\n",
    "df['Cablemódem'].replace(('--', 'SI'), (False, True), inplace = True)\n",
    "df['Dial Up'].replace(('--', 'SI'), (False, True), inplace = True)\n",
    "df['Fibra óptica'].replace(('--', 'SI'), (False, True), inplace = True)\n",
    "df['4G'].replace(('--', 'SI'), (False, True), inplace = True)\n",
    "df['3G'].replace(('--', 'SI'), (False, True), inplace = True)\n",
    "df['Telefonía Fija'].replace(('--', 'SI'), (False, True), inplace = True)\n",
    "df['Wireless'].replace(('--', 'SI'), (False, True), inplace = True)\n",
    "df['Satelital'].replace(('--', 'SI'), (False, True), inplace = True)"
   ]
  },
  {
   "cell_type": "markdown",
   "metadata": {},
   "source": [
    "### Rename the columns for a better read"
   ]
  },
  {
   "cell_type": "code",
   "execution_count": 8,
   "metadata": {},
   "outputs": [],
   "source": [
    "dfColumns = {'Provincia': 'Province', 'Partido': 'County', 'Localidad': 'City', 'Cablemódem': 'Cable modem', 'Fibra óptica': 'Optic Fiber', 'Telefonía Fija': 'Landline', 'Satelital': 'Satellite'}"
   ]
  },
  {
   "cell_type": "code",
   "execution_count": 9,
   "metadata": {},
   "outputs": [],
   "source": [
    "df.rename(columns = dfColumns, inplace = True)"
   ]
  },
  {
   "cell_type": "code",
   "execution_count": 10,
   "metadata": {},
   "outputs": [
    {
     "data": {
      "text/html": [
       "<div>\n",
       "<style scoped>\n",
       "    .dataframe tbody tr th:only-of-type {\n",
       "        vertical-align: middle;\n",
       "    }\n",
       "\n",
       "    .dataframe tbody tr th {\n",
       "        vertical-align: top;\n",
       "    }\n",
       "\n",
       "    .dataframe thead th {\n",
       "        text-align: right;\n",
       "    }\n",
       "</style>\n",
       "<table border=\"1\" class=\"dataframe\">\n",
       "  <thead>\n",
       "    <tr style=\"text-align: right;\">\n",
       "      <th></th>\n",
       "      <th>Province</th>\n",
       "      <th>County</th>\n",
       "      <th>City</th>\n",
       "      <th>ADSL</th>\n",
       "      <th>Cable modem</th>\n",
       "      <th>Dial Up</th>\n",
       "      <th>Optic Fiber</th>\n",
       "      <th>4G</th>\n",
       "      <th>3G</th>\n",
       "      <th>Landline</th>\n",
       "      <th>Wireless</th>\n",
       "      <th>Satellite</th>\n",
       "    </tr>\n",
       "  </thead>\n",
       "  <tbody>\n",
       "    <tr>\n",
       "      <th>0</th>\n",
       "      <td>BUENOS AIRES</td>\n",
       "      <td>9 de Julio</td>\n",
       "      <td>Alfredo Demarchi (Est. Facundo Quiroga)</td>\n",
       "      <td>True</td>\n",
       "      <td>False</td>\n",
       "      <td>False</td>\n",
       "      <td>False</td>\n",
       "      <td>True</td>\n",
       "      <td>True</td>\n",
       "      <td>True</td>\n",
       "      <td>False</td>\n",
       "      <td>False</td>\n",
       "    </tr>\n",
       "    <tr>\n",
       "      <th>1</th>\n",
       "      <td>BUENOS AIRES</td>\n",
       "      <td>9 de Julio</td>\n",
       "      <td>Carlos María Naón</td>\n",
       "      <td>False</td>\n",
       "      <td>False</td>\n",
       "      <td>False</td>\n",
       "      <td>False</td>\n",
       "      <td>True</td>\n",
       "      <td>True</td>\n",
       "      <td>True</td>\n",
       "      <td>False</td>\n",
       "      <td>False</td>\n",
       "    </tr>\n",
       "    <tr>\n",
       "      <th>2</th>\n",
       "      <td>BUENOS AIRES</td>\n",
       "      <td>9 de Julio</td>\n",
       "      <td>Dudignac</td>\n",
       "      <td>False</td>\n",
       "      <td>False</td>\n",
       "      <td>True</td>\n",
       "      <td>False</td>\n",
       "      <td>True</td>\n",
       "      <td>True</td>\n",
       "      <td>True</td>\n",
       "      <td>True</td>\n",
       "      <td>False</td>\n",
       "    </tr>\n",
       "    <tr>\n",
       "      <th>3</th>\n",
       "      <td>BUENOS AIRES</td>\n",
       "      <td>9 de Julio</td>\n",
       "      <td>La Aurora (Est. La Niña)</td>\n",
       "      <td>False</td>\n",
       "      <td>False</td>\n",
       "      <td>False</td>\n",
       "      <td>False</td>\n",
       "      <td>True</td>\n",
       "      <td>False</td>\n",
       "      <td>False</td>\n",
       "      <td>False</td>\n",
       "      <td>False</td>\n",
       "    </tr>\n",
       "    <tr>\n",
       "      <th>4</th>\n",
       "      <td>BUENOS AIRES</td>\n",
       "      <td>9 de Julio</td>\n",
       "      <td>Manuel B. Gonnet (Est. French)</td>\n",
       "      <td>True</td>\n",
       "      <td>False</td>\n",
       "      <td>False</td>\n",
       "      <td>True</td>\n",
       "      <td>True</td>\n",
       "      <td>True</td>\n",
       "      <td>True</td>\n",
       "      <td>False</td>\n",
       "      <td>False</td>\n",
       "    </tr>\n",
       "    <tr>\n",
       "      <th>...</th>\n",
       "      <td>...</td>\n",
       "      <td>...</td>\n",
       "      <td>...</td>\n",
       "      <td>...</td>\n",
       "      <td>...</td>\n",
       "      <td>...</td>\n",
       "      <td>...</td>\n",
       "      <td>...</td>\n",
       "      <td>...</td>\n",
       "      <td>...</td>\n",
       "      <td>...</td>\n",
       "      <td>...</td>\n",
       "    </tr>\n",
       "    <tr>\n",
       "      <th>4306</th>\n",
       "      <td>BUENOS AIRES</td>\n",
       "      <td>Pilar</td>\n",
       "      <td>Pilar</td>\n",
       "      <td>True</td>\n",
       "      <td>True</td>\n",
       "      <td>True</td>\n",
       "      <td>True</td>\n",
       "      <td>True</td>\n",
       "      <td>True</td>\n",
       "      <td>True</td>\n",
       "      <td>True</td>\n",
       "      <td>True</td>\n",
       "    </tr>\n",
       "    <tr>\n",
       "      <th>4307</th>\n",
       "      <td>BUENOS AIRES</td>\n",
       "      <td>Pilar</td>\n",
       "      <td>Presidente Derqui</td>\n",
       "      <td>True</td>\n",
       "      <td>True</td>\n",
       "      <td>False</td>\n",
       "      <td>True</td>\n",
       "      <td>True</td>\n",
       "      <td>True</td>\n",
       "      <td>True</td>\n",
       "      <td>True</td>\n",
       "      <td>False</td>\n",
       "    </tr>\n",
       "    <tr>\n",
       "      <th>4308</th>\n",
       "      <td>BUENOS AIRES</td>\n",
       "      <td>Pilar</td>\n",
       "      <td>Roberto De Vicenzo</td>\n",
       "      <td>False</td>\n",
       "      <td>False</td>\n",
       "      <td>False</td>\n",
       "      <td>False</td>\n",
       "      <td>True</td>\n",
       "      <td>True</td>\n",
       "      <td>False</td>\n",
       "      <td>False</td>\n",
       "      <td>False</td>\n",
       "    </tr>\n",
       "    <tr>\n",
       "      <th>4309</th>\n",
       "      <td>BUENOS AIRES</td>\n",
       "      <td>Pilar</td>\n",
       "      <td>Santa Teresa</td>\n",
       "      <td>False</td>\n",
       "      <td>False</td>\n",
       "      <td>False</td>\n",
       "      <td>False</td>\n",
       "      <td>True</td>\n",
       "      <td>True</td>\n",
       "      <td>False</td>\n",
       "      <td>False</td>\n",
       "      <td>True</td>\n",
       "    </tr>\n",
       "    <tr>\n",
       "      <th>4310</th>\n",
       "      <td>BUENOS AIRES</td>\n",
       "      <td>Pilar</td>\n",
       "      <td>Tortuguitas</td>\n",
       "      <td>False</td>\n",
       "      <td>False</td>\n",
       "      <td>False</td>\n",
       "      <td>True</td>\n",
       "      <td>True</td>\n",
       "      <td>True</td>\n",
       "      <td>False</td>\n",
       "      <td>True</td>\n",
       "      <td>True</td>\n",
       "    </tr>\n",
       "  </tbody>\n",
       "</table>\n",
       "<p>4309 rows × 12 columns</p>\n",
       "</div>"
      ],
      "text/plain": [
       "          Province      County                                     City  \\\n",
       "0     BUENOS AIRES  9 de Julio  Alfredo Demarchi (Est. Facundo Quiroga)   \n",
       "1     BUENOS AIRES  9 de Julio                        Carlos María Naón   \n",
       "2     BUENOS AIRES  9 de Julio                                 Dudignac   \n",
       "3     BUENOS AIRES  9 de Julio                 La Aurora (Est. La Niña)   \n",
       "4     BUENOS AIRES  9 de Julio           Manuel B. Gonnet (Est. French)   \n",
       "...            ...         ...                                      ...   \n",
       "4306  BUENOS AIRES       Pilar                                    Pilar   \n",
       "4307  BUENOS AIRES       Pilar                        Presidente Derqui   \n",
       "4308  BUENOS AIRES       Pilar                       Roberto De Vicenzo   \n",
       "4309  BUENOS AIRES       Pilar                             Santa Teresa   \n",
       "4310  BUENOS AIRES       Pilar                              Tortuguitas   \n",
       "\n",
       "       ADSL  Cable modem  Dial Up  Optic Fiber    4G     3G  Landline  \\\n",
       "0      True        False    False        False  True   True      True   \n",
       "1     False        False    False        False  True   True      True   \n",
       "2     False        False     True        False  True   True      True   \n",
       "3     False        False    False        False  True  False     False   \n",
       "4      True        False    False         True  True   True      True   \n",
       "...     ...          ...      ...          ...   ...    ...       ...   \n",
       "4306   True         True     True         True  True   True      True   \n",
       "4307   True         True    False         True  True   True      True   \n",
       "4308  False        False    False        False  True   True     False   \n",
       "4309  False        False    False        False  True   True     False   \n",
       "4310  False        False    False         True  True   True     False   \n",
       "\n",
       "      Wireless  Satellite  \n",
       "0        False      False  \n",
       "1        False      False  \n",
       "2         True      False  \n",
       "3        False      False  \n",
       "4        False      False  \n",
       "...        ...        ...  \n",
       "4306      True       True  \n",
       "4307      True      False  \n",
       "4308     False      False  \n",
       "4309     False       True  \n",
       "4310      True       True  \n",
       "\n",
       "[4309 rows x 12 columns]"
      ]
     },
     "execution_count": 10,
     "metadata": {},
     "output_type": "execute_result"
    }
   ],
   "source": [
    "df"
   ]
  },
  {
   "cell_type": "markdown",
   "metadata": {},
   "source": [
    "#### Check the DataFrame"
   ]
  },
  {
   "cell_type": "code",
   "execution_count": 11,
   "metadata": {},
   "outputs": [],
   "source": [
    "df['Wireless'] = df['Wireless'].astype('int8')"
   ]
  },
  {
   "cell_type": "markdown",
   "metadata": {},
   "source": [
    "#### Check the column data type"
   ]
  },
  {
   "cell_type": "code",
   "execution_count": 12,
   "metadata": {},
   "outputs": [
    {
     "name": "stdout",
     "output_type": "stream",
     "text": [
      "<class 'pandas.core.frame.DataFrame'>\n",
      "Index: 4309 entries, 0 to 4310\n",
      "Data columns (total 12 columns):\n",
      " #   Column       Non-Null Count  Dtype \n",
      "---  ------       --------------  ----- \n",
      " 0   Province     4309 non-null   object\n",
      " 1   County       4309 non-null   object\n",
      " 2   City         4309 non-null   object\n",
      " 3   ADSL         4309 non-null   bool  \n",
      " 4   Cable modem  4309 non-null   bool  \n",
      " 5   Dial Up      4309 non-null   bool  \n",
      " 6   Optic Fiber  4309 non-null   bool  \n",
      " 7   4G           4309 non-null   bool  \n",
      " 8   3G           4309 non-null   bool  \n",
      " 9   Landline     4309 non-null   bool  \n",
      " 10  Wireless     4309 non-null   int8  \n",
      " 11  Satellite    4309 non-null   bool  \n",
      "dtypes: bool(8), int8(1), object(3)\n",
      "memory usage: 172.5+ KB\n"
     ]
    }
   ],
   "source": [
    "df.info()"
   ]
  },
  {
   "cell_type": "markdown",
   "metadata": {},
   "source": [
    "#### Proceed to change the column data type"
   ]
  },
  {
   "cell_type": "code",
   "execution_count": 13,
   "metadata": {},
   "outputs": [],
   "source": [
    "df['Province'] = df['Province'].astype('category')\n",
    "df['County'] = df['County'].astype('category')\n",
    "df['City'] = df['City'].astype('category')"
   ]
  },
  {
   "cell_type": "code",
   "execution_count": 14,
   "metadata": {},
   "outputs": [
    {
     "name": "stdout",
     "output_type": "stream",
     "text": [
      "<class 'pandas.core.frame.DataFrame'>\n",
      "Index: 4309 entries, 0 to 4310\n",
      "Data columns (total 12 columns):\n",
      " #   Column       Non-Null Count  Dtype   \n",
      "---  ------       --------------  -----   \n",
      " 0   Province     4309 non-null   category\n",
      " 1   County       4309 non-null   category\n",
      " 2   City         4309 non-null   category\n",
      " 3   ADSL         4309 non-null   bool    \n",
      " 4   Cable modem  4309 non-null   bool    \n",
      " 5   Dial Up      4309 non-null   bool    \n",
      " 6   Optic Fiber  4309 non-null   bool    \n",
      " 7   4G           4309 non-null   bool    \n",
      " 8   3G           4309 non-null   bool    \n",
      " 9   Landline     4309 non-null   bool    \n",
      " 10  Wireless     4309 non-null   int8    \n",
      " 11  Satellite    4309 non-null   bool    \n",
      "dtypes: bool(8), category(3), int8(1)\n",
      "memory usage: 272.5 KB\n"
     ]
    }
   ],
   "source": [
    "df.info()"
   ]
  },
  {
   "cell_type": "markdown",
   "metadata": {},
   "source": [
    "### See the number of cities by province"
   ]
  },
  {
   "cell_type": "code",
   "execution_count": 15,
   "metadata": {},
   "outputs": [
    {
     "data": {
      "text/plain": [
       "Province\n",
       "BUENOS AIRES           900\n",
       "CORDOBA                556\n",
       "SANTA FE               388\n",
       "SAN LUIS               229\n",
       "MENDOZA                210\n",
       "ENTRE RIOS             194\n",
       "CATAMARCA              182\n",
       "SANTIAGO DEL ESTERO    165\n",
       "RIO NEGRO              162\n",
       "JUJUY                  160\n",
       "MISIONES               143\n",
       "SALTA                  139\n",
       "TUCUMAN                116\n",
       "SAN JUAN               108\n",
       "LA RIOJA                93\n",
       "CHACO                   92\n",
       "CHUBUT                  90\n",
       "LA PAMPA                89\n",
       "CORRIENTES              78\n",
       "FORMOSA                 63\n",
       "NEUQUEN                 61\n",
       "CABA                    48\n",
       "SANTA CRUZ              27\n",
       "TIERRA DEL FUEGO        16\n",
       "Name: count, dtype: int64"
      ]
     },
     "execution_count": 15,
     "metadata": {},
     "output_type": "execute_result"
    }
   ],
   "source": [
    "df['Province'].value_counts()"
   ]
  },
  {
   "cell_type": "markdown",
   "metadata": {},
   "source": [
    "## Import libraries to plot some data"
   ]
  },
  {
   "cell_type": "code",
   "execution_count": 16,
   "metadata": {},
   "outputs": [],
   "source": [
    "import seaborn as sns\n",
    "import matplotlib.pyplot as plt\n",
    "%matplotlib inline"
   ]
  },
  {
   "cell_type": "code",
   "execution_count": 17,
   "metadata": {},
   "outputs": [
    {
     "data": {
      "image/png": "[encoded data removed]",
      "text/plain": [
       "<Figure size 1400x600 with 1 Axes>"
      ]
     },
     "metadata": {},
     "output_type": "display_data"
    }
   ],
   "source": [
    "plt.figure(figsize = (14, 6))\n",
    "sns.countplot(data = df, y = 'Province')\n",
    "plt.grid(axis = 'y', which = 'minor')\n",
    "sns.set_style('whitegrid', { 'grid.linestyle': '-.'})\n",
    "plt.xticks(rotation = 90)\n",
    "plt.title(('Number of Cities That Have Access to Internet by Province'))\n",
    "plt.ylabel('Province')\n",
    "plt.xlabel('Quantity')\n",
    "plt.show()"
   ]
  },
  {
   "cell_type": "markdown",
   "metadata": {},
   "source": [
    "As we can see, Buenos Aires is the province with the most cities with Internet access as opposed to Tierra Del Fuego.\n",
    "These values are 901 and 16, respectively."
   ]
  },
  {
   "cell_type": "markdown",
   "metadata": {},
   "source": [
    "### How many cities out of the 4311, have wireless connection"
   ]
  },
  {
   "cell_type": "code",
   "execution_count": 18,
   "metadata": {},
   "outputs": [
    {
     "data": {
      "text/plain": [
       "Wireless\n",
       "1    2224\n",
       "0    2085\n",
       "Name: count, dtype: int64"
      ]
     },
     "execution_count": 18,
     "metadata": {},
     "output_type": "execute_result"
    }
   ],
   "source": [
    "df['Wireless'].value_counts()"
   ]
  },
  {
   "cell_type": "code",
   "execution_count": 19,
   "metadata": {},
   "outputs": [
    {
     "data": {
      "image/png": "[encoded data removed]",
      "text/plain": [
       "<Figure size 1200x600 with 1 Axes>"
      ]
     },
     "metadata": {},
     "output_type": "display_data"
    }
   ],
   "source": [
    "plt.figure(figsize= (12,6))\n",
    "sns.countplot(data = df, x = 'Wireless')\n",
    "plt.xticks([0, 1], ['Does Not Have a Wireless Connection', 'Does have a Wireless Connection'])\n",
    "plt.title('Number of People That Have Wireless Connection')\n",
    "plt.ylabel('Count')\n",
    "plt.xlabel('Wireless Connection')\n",
    "\n",
    "# Resize the Y axis scale so that we can appreciate better the graph\n",
    "plt.ylim(2000, 2250)\n",
    "plt.show()"
   ]
  },
  {
   "cell_type": "markdown",
   "metadata": {},
   "source": [
    "## As we see, there are many cities with no WiFi connection that could represent a valuable untapped revenue source.\n",
    "___\n",
    "___\n"
   ]
  },
  {
   "cell_type": "markdown",
   "metadata": {},
   "source": [
    "### `Load a second csv file to have a better understanding of the data`"
   ]
  },
  {
   "cell_type": "code",
   "execution_count": 20,
   "metadata": {},
   "outputs": [],
   "source": [
    "df2 = pd.read_csv('../DataSets/Internet_Penetracion_cada_100_hogares.csv', sep = ',')"
   ]
  },
  {
   "cell_type": "code",
   "execution_count": 21,
   "metadata": {},
   "outputs": [
    {
     "data": {
      "text/html": [
       "<div>\n",
       "<style scoped>\n",
       "    .dataframe tbody tr th:only-of-type {\n",
       "        vertical-align: middle;\n",
       "    }\n",
       "\n",
       "    .dataframe tbody tr th {\n",
       "        vertical-align: top;\n",
       "    }\n",
       "\n",
       "    .dataframe thead th {\n",
       "        text-align: right;\n",
       "    }\n",
       "</style>\n",
       "<table border=\"1\" class=\"dataframe\">\n",
       "  <thead>\n",
       "    <tr style=\"text-align: right;\">\n",
       "      <th></th>\n",
       "      <th>Año</th>\n",
       "      <th>Trimestre</th>\n",
       "      <th>Provincia</th>\n",
       "      <th>Accesos por cada 100 hogares</th>\n",
       "      <th>Unnamed: 4</th>\n",
       "      <th>Unnamed: 5</th>\n",
       "      <th>Unnamed: 6</th>\n",
       "    </tr>\n",
       "  </thead>\n",
       "  <tbody>\n",
       "    <tr>\n",
       "      <th>0</th>\n",
       "      <td>2022</td>\n",
       "      <td>4</td>\n",
       "      <td>Buenos Aires</td>\n",
       "      <td>78,94</td>\n",
       "      <td>NaN</td>\n",
       "      <td>NaN</td>\n",
       "      <td>NaN</td>\n",
       "    </tr>\n",
       "    <tr>\n",
       "      <th>1</th>\n",
       "      <td>2022</td>\n",
       "      <td>4</td>\n",
       "      <td>Capital Federal</td>\n",
       "      <td>122,73</td>\n",
       "      <td>NaN</td>\n",
       "      <td>NaN</td>\n",
       "      <td>NaN</td>\n",
       "    </tr>\n",
       "    <tr>\n",
       "      <th>2</th>\n",
       "      <td>2022</td>\n",
       "      <td>4</td>\n",
       "      <td>Catamarca</td>\n",
       "      <td>65,77</td>\n",
       "      <td>NaN</td>\n",
       "      <td>NaN</td>\n",
       "      <td>NaN</td>\n",
       "    </tr>\n",
       "    <tr>\n",
       "      <th>3</th>\n",
       "      <td>2022</td>\n",
       "      <td>4</td>\n",
       "      <td>Chaco</td>\n",
       "      <td>43,62</td>\n",
       "      <td>NaN</td>\n",
       "      <td>NaN</td>\n",
       "      <td>NaN</td>\n",
       "    </tr>\n",
       "    <tr>\n",
       "      <th>4</th>\n",
       "      <td>2022</td>\n",
       "      <td>4</td>\n",
       "      <td>Chubut</td>\n",
       "      <td>85,57</td>\n",
       "      <td>NaN</td>\n",
       "      <td>NaN</td>\n",
       "      <td>NaN</td>\n",
       "    </tr>\n",
       "    <tr>\n",
       "      <th>...</th>\n",
       "      <td>...</td>\n",
       "      <td>...</td>\n",
       "      <td>...</td>\n",
       "      <td>...</td>\n",
       "      <td>...</td>\n",
       "      <td>...</td>\n",
       "      <td>...</td>\n",
       "    </tr>\n",
       "    <tr>\n",
       "      <th>859</th>\n",
       "      <td>2014</td>\n",
       "      <td>1</td>\n",
       "      <td>Santa Cruz</td>\n",
       "      <td>28,94</td>\n",
       "      <td>NaN</td>\n",
       "      <td>NaN</td>\n",
       "      <td>NaN</td>\n",
       "    </tr>\n",
       "    <tr>\n",
       "      <th>860</th>\n",
       "      <td>2014</td>\n",
       "      <td>1</td>\n",
       "      <td>Santa Fe</td>\n",
       "      <td>47,85</td>\n",
       "      <td>NaN</td>\n",
       "      <td>NaN</td>\n",
       "      <td>NaN</td>\n",
       "    </tr>\n",
       "    <tr>\n",
       "      <th>861</th>\n",
       "      <td>2014</td>\n",
       "      <td>1</td>\n",
       "      <td>Santiago Del Estero</td>\n",
       "      <td>16,31</td>\n",
       "      <td>NaN</td>\n",
       "      <td>NaN</td>\n",
       "      <td>NaN</td>\n",
       "    </tr>\n",
       "    <tr>\n",
       "      <th>862</th>\n",
       "      <td>2014</td>\n",
       "      <td>1</td>\n",
       "      <td>Tierra Del Fuego</td>\n",
       "      <td>63,97</td>\n",
       "      <td>NaN</td>\n",
       "      <td>NaN</td>\n",
       "      <td>NaN</td>\n",
       "    </tr>\n",
       "    <tr>\n",
       "      <th>863</th>\n",
       "      <td>2014</td>\n",
       "      <td>1</td>\n",
       "      <td>Tucumán</td>\n",
       "      <td>33,42</td>\n",
       "      <td>NaN</td>\n",
       "      <td>NaN</td>\n",
       "      <td>NaN</td>\n",
       "    </tr>\n",
       "  </tbody>\n",
       "</table>\n",
       "<p>864 rows × 7 columns</p>\n",
       "</div>"
      ],
      "text/plain": [
       "      Año  Trimestre            Provincia Accesos por cada 100 hogares  \\\n",
       "0    2022          4         Buenos Aires                        78,94   \n",
       "1    2022          4      Capital Federal                       122,73   \n",
       "2    2022          4            Catamarca                        65,77   \n",
       "3    2022          4                Chaco                        43,62   \n",
       "4    2022          4               Chubut                        85,57   \n",
       "..    ...        ...                  ...                          ...   \n",
       "859  2014          1           Santa Cruz                        28,94   \n",
       "860  2014          1             Santa Fe                        47,85   \n",
       "861  2014          1  Santiago Del Estero                        16,31   \n",
       "862  2014          1     Tierra Del Fuego                        63,97   \n",
       "863  2014          1              Tucumán                        33,42   \n",
       "\n",
       "     Unnamed: 4  Unnamed: 5  Unnamed: 6  \n",
       "0           NaN         NaN         NaN  \n",
       "1           NaN         NaN         NaN  \n",
       "2           NaN         NaN         NaN  \n",
       "3           NaN         NaN         NaN  \n",
       "4           NaN         NaN         NaN  \n",
       "..          ...         ...         ...  \n",
       "859         NaN         NaN         NaN  \n",
       "860         NaN         NaN         NaN  \n",
       "861         NaN         NaN         NaN  \n",
       "862         NaN         NaN         NaN  \n",
       "863         NaN         NaN         NaN  \n",
       "\n",
       "[864 rows x 7 columns]"
      ]
     },
     "execution_count": 21,
     "metadata": {},
     "output_type": "execute_result"
    }
   ],
   "source": [
    "df2"
   ]
  },
  {
   "cell_type": "markdown",
   "metadata": {},
   "source": [
    "### Get rid of the last three columns that have no values"
   ]
  },
  {
   "cell_type": "markdown",
   "metadata": {},
   "source": [
    "Check that there are no meaningful values "
   ]
  },
  {
   "cell_type": "code",
   "execution_count": 22,
   "metadata": {},
   "outputs": [
    {
     "data": {
      "text/plain": [
       "(864, 864, 864)"
      ]
     },
     "execution_count": 22,
     "metadata": {},
     "output_type": "execute_result"
    }
   ],
   "source": [
    "df2['Unnamed: 4'].isnull().sum(), df2['Unnamed: 5'].isnull().sum(), df2['Unnamed: 6'].isnull().sum()"
   ]
  },
  {
   "cell_type": "code",
   "execution_count": 23,
   "metadata": {},
   "outputs": [],
   "source": [
    "df2.drop(['Unnamed: 4', 'Unnamed: 5', 'Unnamed: 6'], axis = 1, inplace = True)"
   ]
  },
  {
   "cell_type": "code",
   "execution_count": 24,
   "metadata": {},
   "outputs": [
    {
     "data": {
      "text/html": [
       "<div>\n",
       "<style scoped>\n",
       "    .dataframe tbody tr th:only-of-type {\n",
       "        vertical-align: middle;\n",
       "    }\n",
       "\n",
       "    .dataframe tbody tr th {\n",
       "        vertical-align: top;\n",
       "    }\n",
       "\n",
       "    .dataframe thead th {\n",
       "        text-align: right;\n",
       "    }\n",
       "</style>\n",
       "<table border=\"1\" class=\"dataframe\">\n",
       "  <thead>\n",
       "    <tr style=\"text-align: right;\">\n",
       "      <th></th>\n",
       "      <th>Año</th>\n",
       "      <th>Trimestre</th>\n",
       "      <th>Provincia</th>\n",
       "      <th>Accesos por cada 100 hogares</th>\n",
       "    </tr>\n",
       "  </thead>\n",
       "  <tbody>\n",
       "    <tr>\n",
       "      <th>0</th>\n",
       "      <td>2022</td>\n",
       "      <td>4</td>\n",
       "      <td>Buenos Aires</td>\n",
       "      <td>78,94</td>\n",
       "    </tr>\n",
       "    <tr>\n",
       "      <th>1</th>\n",
       "      <td>2022</td>\n",
       "      <td>4</td>\n",
       "      <td>Capital Federal</td>\n",
       "      <td>122,73</td>\n",
       "    </tr>\n",
       "    <tr>\n",
       "      <th>2</th>\n",
       "      <td>2022</td>\n",
       "      <td>4</td>\n",
       "      <td>Catamarca</td>\n",
       "      <td>65,77</td>\n",
       "    </tr>\n",
       "    <tr>\n",
       "      <th>3</th>\n",
       "      <td>2022</td>\n",
       "      <td>4</td>\n",
       "      <td>Chaco</td>\n",
       "      <td>43,62</td>\n",
       "    </tr>\n",
       "    <tr>\n",
       "      <th>4</th>\n",
       "      <td>2022</td>\n",
       "      <td>4</td>\n",
       "      <td>Chubut</td>\n",
       "      <td>85,57</td>\n",
       "    </tr>\n",
       "    <tr>\n",
       "      <th>...</th>\n",
       "      <td>...</td>\n",
       "      <td>...</td>\n",
       "      <td>...</td>\n",
       "      <td>...</td>\n",
       "    </tr>\n",
       "    <tr>\n",
       "      <th>859</th>\n",
       "      <td>2014</td>\n",
       "      <td>1</td>\n",
       "      <td>Santa Cruz</td>\n",
       "      <td>28,94</td>\n",
       "    </tr>\n",
       "    <tr>\n",
       "      <th>860</th>\n",
       "      <td>2014</td>\n",
       "      <td>1</td>\n",
       "      <td>Santa Fe</td>\n",
       "      <td>47,85</td>\n",
       "    </tr>\n",
       "    <tr>\n",
       "      <th>861</th>\n",
       "      <td>2014</td>\n",
       "      <td>1</td>\n",
       "      <td>Santiago Del Estero</td>\n",
       "      <td>16,31</td>\n",
       "    </tr>\n",
       "    <tr>\n",
       "      <th>862</th>\n",
       "      <td>2014</td>\n",
       "      <td>1</td>\n",
       "      <td>Tierra Del Fuego</td>\n",
       "      <td>63,97</td>\n",
       "    </tr>\n",
       "    <tr>\n",
       "      <th>863</th>\n",
       "      <td>2014</td>\n",
       "      <td>1</td>\n",
       "      <td>Tucumán</td>\n",
       "      <td>33,42</td>\n",
       "    </tr>\n",
       "  </tbody>\n",
       "</table>\n",
       "<p>864 rows × 4 columns</p>\n",
       "</div>"
      ],
      "text/plain": [
       "      Año  Trimestre            Provincia Accesos por cada 100 hogares\n",
       "0    2022          4         Buenos Aires                        78,94\n",
       "1    2022          4      Capital Federal                       122,73\n",
       "2    2022          4            Catamarca                        65,77\n",
       "3    2022          4                Chaco                        43,62\n",
       "4    2022          4               Chubut                        85,57\n",
       "..    ...        ...                  ...                          ...\n",
       "859  2014          1           Santa Cruz                        28,94\n",
       "860  2014          1             Santa Fe                        47,85\n",
       "861  2014          1  Santiago Del Estero                        16,31\n",
       "862  2014          1     Tierra Del Fuego                        63,97\n",
       "863  2014          1              Tucumán                        33,42\n",
       "\n",
       "[864 rows x 4 columns]"
      ]
     },
     "execution_count": 24,
     "metadata": {},
     "output_type": "execute_result"
    }
   ],
   "source": [
    "df2"
   ]
  },
  {
   "cell_type": "markdown",
   "metadata": {},
   "source": [
    "### Rename the DataFrame columns for an easier read"
   ]
  },
  {
   "cell_type": "code",
   "execution_count": 25,
   "metadata": {},
   "outputs": [],
   "source": [
    "df2Columns = {'Año': 'Year', 'Trimestre': 'Quarter', 'Provincia': 'Province', 'Accesos por cada 100 hogares': 'Access per 100 households'}"
   ]
  },
  {
   "cell_type": "code",
   "execution_count": 26,
   "metadata": {},
   "outputs": [],
   "source": [
    "df2.rename(columns = df2Columns, inplace = True)"
   ]
  },
  {
   "cell_type": "code",
   "execution_count": 27,
   "metadata": {},
   "outputs": [
    {
     "data": {
      "text/html": [
       "<div>\n",
       "<style scoped>\n",
       "    .dataframe tbody tr th:only-of-type {\n",
       "        vertical-align: middle;\n",
       "    }\n",
       "\n",
       "    .dataframe tbody tr th {\n",
       "        vertical-align: top;\n",
       "    }\n",
       "\n",
       "    .dataframe thead th {\n",
       "        text-align: right;\n",
       "    }\n",
       "</style>\n",
       "<table border=\"1\" class=\"dataframe\">\n",
       "  <thead>\n",
       "    <tr style=\"text-align: right;\">\n",
       "      <th></th>\n",
       "      <th>Year</th>\n",
       "      <th>Quarter</th>\n",
       "      <th>Province</th>\n",
       "      <th>Access per 100 households</th>\n",
       "    </tr>\n",
       "  </thead>\n",
       "  <tbody>\n",
       "    <tr>\n",
       "      <th>0</th>\n",
       "      <td>2022</td>\n",
       "      <td>4</td>\n",
       "      <td>Buenos Aires</td>\n",
       "      <td>78,94</td>\n",
       "    </tr>\n",
       "    <tr>\n",
       "      <th>1</th>\n",
       "      <td>2022</td>\n",
       "      <td>4</td>\n",
       "      <td>Capital Federal</td>\n",
       "      <td>122,73</td>\n",
       "    </tr>\n",
       "    <tr>\n",
       "      <th>2</th>\n",
       "      <td>2022</td>\n",
       "      <td>4</td>\n",
       "      <td>Catamarca</td>\n",
       "      <td>65,77</td>\n",
       "    </tr>\n",
       "    <tr>\n",
       "      <th>3</th>\n",
       "      <td>2022</td>\n",
       "      <td>4</td>\n",
       "      <td>Chaco</td>\n",
       "      <td>43,62</td>\n",
       "    </tr>\n",
       "    <tr>\n",
       "      <th>4</th>\n",
       "      <td>2022</td>\n",
       "      <td>4</td>\n",
       "      <td>Chubut</td>\n",
       "      <td>85,57</td>\n",
       "    </tr>\n",
       "    <tr>\n",
       "      <th>...</th>\n",
       "      <td>...</td>\n",
       "      <td>...</td>\n",
       "      <td>...</td>\n",
       "      <td>...</td>\n",
       "    </tr>\n",
       "    <tr>\n",
       "      <th>859</th>\n",
       "      <td>2014</td>\n",
       "      <td>1</td>\n",
       "      <td>Santa Cruz</td>\n",
       "      <td>28,94</td>\n",
       "    </tr>\n",
       "    <tr>\n",
       "      <th>860</th>\n",
       "      <td>2014</td>\n",
       "      <td>1</td>\n",
       "      <td>Santa Fe</td>\n",
       "      <td>47,85</td>\n",
       "    </tr>\n",
       "    <tr>\n",
       "      <th>861</th>\n",
       "      <td>2014</td>\n",
       "      <td>1</td>\n",
       "      <td>Santiago Del Estero</td>\n",
       "      <td>16,31</td>\n",
       "    </tr>\n",
       "    <tr>\n",
       "      <th>862</th>\n",
       "      <td>2014</td>\n",
       "      <td>1</td>\n",
       "      <td>Tierra Del Fuego</td>\n",
       "      <td>63,97</td>\n",
       "    </tr>\n",
       "    <tr>\n",
       "      <th>863</th>\n",
       "      <td>2014</td>\n",
       "      <td>1</td>\n",
       "      <td>Tucumán</td>\n",
       "      <td>33,42</td>\n",
       "    </tr>\n",
       "  </tbody>\n",
       "</table>\n",
       "<p>864 rows × 4 columns</p>\n",
       "</div>"
      ],
      "text/plain": [
       "     Year  Quarter             Province Access per 100 households\n",
       "0    2022        4         Buenos Aires                     78,94\n",
       "1    2022        4      Capital Federal                    122,73\n",
       "2    2022        4            Catamarca                     65,77\n",
       "3    2022        4                Chaco                     43,62\n",
       "4    2022        4               Chubut                     85,57\n",
       "..    ...      ...                  ...                       ...\n",
       "859  2014        1           Santa Cruz                     28,94\n",
       "860  2014        1             Santa Fe                     47,85\n",
       "861  2014        1  Santiago Del Estero                     16,31\n",
       "862  2014        1     Tierra Del Fuego                     63,97\n",
       "863  2014        1              Tucumán                     33,42\n",
       "\n",
       "[864 rows x 4 columns]"
      ]
     },
     "execution_count": 27,
     "metadata": {},
     "output_type": "execute_result"
    }
   ],
   "source": [
    "df2"
   ]
  },
  {
   "cell_type": "markdown",
   "metadata": {},
   "source": [
    "### Get more insight of the DataFrame"
   ]
  },
  {
   "cell_type": "code",
   "execution_count": 28,
   "metadata": {},
   "outputs": [
    {
     "name": "stdout",
     "output_type": "stream",
     "text": [
      "<class 'pandas.core.frame.DataFrame'>\n",
      "RangeIndex: 864 entries, 0 to 863\n",
      "Data columns (total 4 columns):\n",
      " #   Column                     Non-Null Count  Dtype \n",
      "---  ------                     --------------  ----- \n",
      " 0   Year                       864 non-null    int64 \n",
      " 1   Quarter                    864 non-null    int64 \n",
      " 2   Province                   864 non-null    object\n",
      " 3   Access per 100 households  864 non-null    object\n",
      "dtypes: int64(2), object(2)\n",
      "memory usage: 27.1+ KB\n"
     ]
    }
   ],
   "source": [
    "df2.info()"
   ]
  },
  {
   "cell_type": "markdown",
   "metadata": {},
   "source": [
    "### Check for any duplicate value or null value"
   ]
  },
  {
   "cell_type": "code",
   "execution_count": 29,
   "metadata": {},
   "outputs": [
    {
     "data": {
      "text/plain": [
       "Year                         0\n",
       "Quarter                      0\n",
       "Province                     0\n",
       "Access per 100 households    0\n",
       "dtype: int64"
      ]
     },
     "execution_count": 29,
     "metadata": {},
     "output_type": "execute_result"
    }
   ],
   "source": [
    "df2.isnull().sum()"
   ]
  },
  {
   "cell_type": "code",
   "execution_count": 30,
   "metadata": {},
   "outputs": [
    {
     "data": {
      "text/plain": [
       "False    864\n",
       "Name: count, dtype: int64"
      ]
     },
     "execution_count": 30,
     "metadata": {},
     "output_type": "execute_result"
    }
   ],
   "source": [
    "df2.duplicated().value_counts()"
   ]
  },
  {
   "cell_type": "markdown",
   "metadata": {},
   "source": [
    "### We see that there are no duplicate or null values"
   ]
  },
  {
   "cell_type": "markdown",
   "metadata": {},
   "source": [
    "### To be able to convert the columns' data type, we first need to replace the '`,`' notation for the '`.`' notation"
   ]
  },
  {
   "cell_type": "code",
   "execution_count": 31,
   "metadata": {},
   "outputs": [],
   "source": [
    "df2['Access per 100 households'].replace(',', '.', regex = True, inplace = True)"
   ]
  },
  {
   "cell_type": "markdown",
   "metadata": {},
   "source": [
    "### We reasign data types of the DataFrame"
   ]
  },
  {
   "cell_type": "code",
   "execution_count": 32,
   "metadata": {},
   "outputs": [],
   "source": [
    "df2['Year'] = df2['Year'].astype('int16') # Discrete qualitative variable\n",
    "\n",
    "# Quarter is not a numeric variable but rather a cagetorical variable. This is because it\n",
    "# represents a period in time.\n",
    "df2['Quarter'] = df2['Quarter'].astype('category') \n",
    "\n",
    "df2['Province'] = df2['Province'].astype('category')\n",
    "df2['Access per 100 households'] = df2['Access per 100 households'].astype('float') # Continuos quantitative variable"
   ]
  },
  {
   "cell_type": "markdown",
   "metadata": {},
   "source": [
    "### Check the final version of the DataFrame"
   ]
  },
  {
   "cell_type": "code",
   "execution_count": 33,
   "metadata": {},
   "outputs": [
    {
     "name": "stdout",
     "output_type": "stream",
     "text": [
      "<class 'pandas.core.frame.DataFrame'>\n",
      "RangeIndex: 864 entries, 0 to 863\n",
      "Data columns (total 4 columns):\n",
      " #   Column                     Non-Null Count  Dtype   \n",
      "---  ------                     --------------  -----   \n",
      " 0   Year                       864 non-null    int16   \n",
      " 1   Quarter                    864 non-null    category\n",
      " 2   Province                   864 non-null    category\n",
      " 3   Access per 100 households  864 non-null    float64 \n",
      "dtypes: category(2), float64(1), int16(1)\n",
      "memory usage: 11.2 KB\n"
     ]
    }
   ],
   "source": [
    "df2.info()"
   ]
  },
  {
   "cell_type": "code",
   "execution_count": 34,
   "metadata": {},
   "outputs": [
    {
     "data": {
      "text/html": [
       "<div>\n",
       "<style scoped>\n",
       "    .dataframe tbody tr th:only-of-type {\n",
       "        vertical-align: middle;\n",
       "    }\n",
       "\n",
       "    .dataframe tbody tr th {\n",
       "        vertical-align: top;\n",
       "    }\n",
       "\n",
       "    .dataframe thead th {\n",
       "        text-align: right;\n",
       "    }\n",
       "</style>\n",
       "<table border=\"1\" class=\"dataframe\">\n",
       "  <thead>\n",
       "    <tr style=\"text-align: right;\">\n",
       "      <th></th>\n",
       "      <th>Year</th>\n",
       "      <th>Access per 100 households</th>\n",
       "    </tr>\n",
       "  </thead>\n",
       "  <tbody>\n",
       "    <tr>\n",
       "      <th>count</th>\n",
       "      <td>864.000000</td>\n",
       "      <td>864.000000</td>\n",
       "    </tr>\n",
       "    <tr>\n",
       "      <th>mean</th>\n",
       "      <td>2018.000000</td>\n",
       "      <td>49.620301</td>\n",
       "    </tr>\n",
       "    <tr>\n",
       "      <th>std</th>\n",
       "      <td>2.583484</td>\n",
       "      <td>23.319150</td>\n",
       "    </tr>\n",
       "    <tr>\n",
       "      <th>min</th>\n",
       "      <td>2014.000000</td>\n",
       "      <td>9.350000</td>\n",
       "    </tr>\n",
       "    <tr>\n",
       "      <th>25%</th>\n",
       "      <td>2016.000000</td>\n",
       "      <td>32.220000</td>\n",
       "    </tr>\n",
       "    <tr>\n",
       "      <th>50%</th>\n",
       "      <td>2018.000000</td>\n",
       "      <td>46.390000</td>\n",
       "    </tr>\n",
       "    <tr>\n",
       "      <th>75%</th>\n",
       "      <td>2020.000000</td>\n",
       "      <td>62.442500</td>\n",
       "    </tr>\n",
       "    <tr>\n",
       "      <th>max</th>\n",
       "      <td>2022.000000</td>\n",
       "      <td>124.060000</td>\n",
       "    </tr>\n",
       "  </tbody>\n",
       "</table>\n",
       "</div>"
      ],
      "text/plain": [
       "              Year  Access per 100 households\n",
       "count   864.000000                 864.000000\n",
       "mean   2018.000000                  49.620301\n",
       "std       2.583484                  23.319150\n",
       "min    2014.000000                   9.350000\n",
       "25%    2016.000000                  32.220000\n",
       "50%    2018.000000                  46.390000\n",
       "75%    2020.000000                  62.442500\n",
       "max    2022.000000                 124.060000"
      ]
     },
     "execution_count": 34,
     "metadata": {},
     "output_type": "execute_result"
    }
   ],
   "source": [
    "df2.describe()"
   ]
  },
  {
   "cell_type": "markdown",
   "metadata": {},
   "source": [
    "### Some values in '**`Access per 100 households`**' are higher than 100, this could mean that there are households with more than one connection, or these are anomalies. Either way, we get rid of these in order to have a more binary column. "
   ]
  },
  {
   "cell_type": "markdown",
   "metadata": {},
   "source": [
    "#### We drop the rows with values higher than 100 and reset the index"
   ]
  },
  {
   "cell_type": "code",
   "execution_count": 35,
   "metadata": {},
   "outputs": [],
   "source": [
    "df2 = (df2[df2['Access per 100 households'] <= 100])"
   ]
  },
  {
   "cell_type": "code",
   "execution_count": 36,
   "metadata": {},
   "outputs": [
    {
     "data": {
      "text/plain": [
       "Province\n",
       "Tierra Del Fuego       78.151714\n",
       "La Pampa               71.277222\n",
       "Córdoba                66.986111\n",
       "Buenos Aires           63.979444\n",
       "Santa Fe               62.836667\n",
       "Neuquén                62.373889\n",
       "Río Negro              53.567500\n",
       "Chubut                 53.114444\n",
       "Entre Ríos             51.164444\n",
       "San Luis               44.339722\n",
       "Tucumán                44.124167\n",
       "La Rioja               42.564444\n",
       "Salta                  41.886667\n",
       "Mendoza                37.265000\n",
       "Catamarca              36.737500\n",
       "Jujuy                  35.920000\n",
       "Corrientes             35.597778\n",
       "Misiones               35.512222\n",
       "San Juan               33.618333\n",
       "Chaco                  33.472778\n",
       "Santa Cruz             32.937778\n",
       "Santiago Del Estero    32.591944\n",
       "Formosa                26.581389\n",
       "Capital Federal              NaN\n",
       "Name: Access per 100 households, dtype: float64"
      ]
     },
     "execution_count": 36,
     "metadata": {},
     "output_type": "execute_result"
    }
   ],
   "source": [
    "byYear = df2.groupby('Province')['Access per 100 households'].mean().sort_values(ascending = False)\n",
    "byYear"
   ]
  },
  {
   "cell_type": "markdown",
   "metadata": {},
   "source": [
    "### We see that, `Tierra Del Fuego`, despite being one of the least populated provinces is the one with the highest percentaje of Internet access."
   ]
  },
  {
   "cell_type": "markdown",
   "metadata": {},
   "source": [
    "#### Drop `Capital Federal` which has no values"
   ]
  },
  {
   "cell_type": "code",
   "execution_count": 37,
   "metadata": {},
   "outputs": [],
   "source": [
    "byYear.drop(labels = 'Capital Federal', inplace = True)"
   ]
  },
  {
   "cell_type": "code",
   "execution_count": 38,
   "metadata": {},
   "outputs": [
    {
     "data": {
      "text/plain": [
       "Province\n",
       "Tierra Del Fuego       78.151714\n",
       "La Pampa               71.277222\n",
       "Córdoba                66.986111\n",
       "Buenos Aires           63.979444\n",
       "Santa Fe               62.836667\n",
       "Neuquén                62.373889\n",
       "Río Negro              53.567500\n",
       "Chubut                 53.114444\n",
       "Entre Ríos             51.164444\n",
       "San Luis               44.339722\n",
       "Tucumán                44.124167\n",
       "La Rioja               42.564444\n",
       "Salta                  41.886667\n",
       "Mendoza                37.265000\n",
       "Catamarca              36.737500\n",
       "Jujuy                  35.920000\n",
       "Corrientes             35.597778\n",
       "Misiones               35.512222\n",
       "San Juan               33.618333\n",
       "Chaco                  33.472778\n",
       "Santa Cruz             32.937778\n",
       "Santiago Del Estero    32.591944\n",
       "Formosa                26.581389\n",
       "Name: Access per 100 households, dtype: float64"
      ]
     },
     "execution_count": 38,
     "metadata": {},
     "output_type": "execute_result"
    }
   ],
   "source": [
    "byYear"
   ]
  },
  {
   "cell_type": "markdown",
   "metadata": {},
   "source": [
    "### Proceed to plot the Average Internet Access per 100 Inhabitants by province"
   ]
  },
  {
   "cell_type": "code",
   "execution_count": 39,
   "metadata": {},
   "outputs": [],
   "source": [
    "df2 = df2.sort_values(by = 'Quarter', ascending = True)"
   ]
  },
  {
   "cell_type": "code",
   "execution_count": 40,
   "metadata": {},
   "outputs": [
    {
     "data": {
      "image/png": "[encoded data removed]",
      "text/plain": [
       "<Figure size 2000x600 with 1 Axes>"
      ]
     },
     "metadata": {},
     "output_type": "display_data"
    }
   ],
   "source": [
    "plt.figure(figsize = (20, 6))\n",
    "sns.set_style('darkgrid')\n",
    "sns.barplot(x = byYear.index, y = byYear.values)\n",
    "\n",
    "plt.xticks(rotation = 45)\n",
    "plt.title('Average Internet Access per 100 Inhabitants')\n",
    "plt.xlabel('Province')\n",
    "plt.ylabel('Average Number of People With Internet Access')\n",
    "plt.ylim((0, 100))\n",
    "plt.show()"
   ]
  },
  {
   "cell_type": "markdown",
   "metadata": {},
   "source": [
    "### The graph indicates that only half of the 23 provinces have between a 60% to 80% of their population with Internet access"
   ]
  },
  {
   "cell_type": "markdown",
   "metadata": {},
   "source": [
    "### We change the data type of the `Quarter` column so that we can use it as _`hue`_"
   ]
  },
  {
   "cell_type": "code",
   "execution_count": 41,
   "metadata": {},
   "outputs": [],
   "source": [
    "df2['Quarter'] = df2['Quarter'].astype('string')"
   ]
  },
  {
   "cell_type": "markdown",
   "metadata": {},
   "source": [
    "We previously changed quarter because even though we have it as a number, the nature of the variable does not respond to a quantitative variable but a qualitative variable. This could also be interpreted as a categorical variable. <br>\n",
    "So now we change it as a string in order to avoid a `AttributeError`"
   ]
  },
  {
   "cell_type": "code",
   "execution_count": 42,
   "metadata": {},
   "outputs": [
    {
     "data": {
      "image/png": "[encoded data removed]",
      "text/plain": [
       "<Figure size 3600x1200 with 1 Axes>"
      ]
     },
     "metadata": {},
     "output_type": "display_data"
    }
   ],
   "source": [
    "plt.figure(figsize = (18, 6), dpi = 200.0)\n",
    "sns.barplot(df2, x =  'Year', y = 'Access per 100 households', hue = 'Quarter')\n",
    "plt.legend(title = 'Quarter', shadow = True, loc = 'best')\n",
    "plt.ylabel('Internet Access per 100 households')\n",
    "plt.xlabel('Year')\n",
    "plt.title('Internet Access per 100 households Per Year')\n",
    "plt.show()"
   ]
  },
  {
   "cell_type": "markdown",
   "metadata": {},
   "source": [
    "### As we can see, there is a trend of increasing Internet access, especially in the last quarter of each year. However, in the last year, we see a minor drop same as in 2019\n",
    "___\n",
    "___"
   ]
  },
  {
   "cell_type": "markdown",
   "metadata": {},
   "source": [
    "## **``Final Key Takeaways``**\n",
    "\n",
    " - ### Buenos Aires has the highest number of cities with Internet access\n",
    " - ### Tierra del Fuego has the highest rate of Internet connection compared to the rest of the country\n",
    " - ### Almost half the cities in Argentina do not have wireless connection\n",
    " - ### The country has seen a steady growth in Internet connection in recent years "
   ]
  }
 ],
 "metadata": {
  "kernelspec": {
   "display_name": "Python 3",
   "language": "python",
   "name": "python3"
  },
  "language_info": {
   "codemirror_mode": {
    "name": "ipython",
    "version": 3
   },
   "file_extension": ".py",
   "mimetype": "text/x-python",
   "name": "python",
   "nbconvert_exporter": "python",
   "pygments_lexer": "ipython3",
   "version": "3.11.5"
  }
 },
 "nbformat": 4,
 "nbformat_minor": 2
}
